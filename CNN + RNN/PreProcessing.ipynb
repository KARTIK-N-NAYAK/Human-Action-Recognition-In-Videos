{
 "cells": [
  {
   "cell_type": "markdown",
   "id": "41aa5d24",
   "metadata": {},
   "source": [
    "# Import Libraries"
   ]
  },
  {
   "cell_type": "code",
   "execution_count": 1,
   "id": "44cbbf74",
   "metadata": {},
   "outputs": [],
   "source": [
    "from imutils import paths\n",
    "from tqdm import tqdm\n",
    "import pandas as pd \n",
    "import numpy as np\n",
    "import shutil\n",
    "import cv2\n",
    "import os"
   ]
  },
  {
   "cell_type": "markdown",
   "id": "92aeec90",
   "metadata": {},
   "source": [
    "# Loading MetaData"
   ]
  },
  {
   "cell_type": "code",
   "execution_count": 2,
   "id": "6e05541d",
   "metadata": {},
   "outputs": [
    {
     "data": {
      "text/html": [
       "<div>\n",
       "<style scoped>\n",
       "    .dataframe tbody tr th:only-of-type {\n",
       "        vertical-align: middle;\n",
       "    }\n",
       "\n",
       "    .dataframe tbody tr th {\n",
       "        vertical-align: top;\n",
       "    }\n",
       "\n",
       "    .dataframe thead th {\n",
       "        text-align: right;\n",
       "    }\n",
       "</style>\n",
       "<table border=\"1\" class=\"dataframe\">\n",
       "  <thead>\n",
       "    <tr style=\"text-align: right;\">\n",
       "      <th></th>\n",
       "      <th>video_name</th>\n",
       "    </tr>\n",
       "  </thead>\n",
       "  <tbody>\n",
       "    <tr>\n",
       "      <th>0</th>\n",
       "      <td>ApplyEyeMakeup/v_ApplyEyeMakeup_g08_c01.avi 1</td>\n",
       "    </tr>\n",
       "    <tr>\n",
       "      <th>1</th>\n",
       "      <td>ApplyEyeMakeup/v_ApplyEyeMakeup_g08_c02.avi 1</td>\n",
       "    </tr>\n",
       "    <tr>\n",
       "      <th>2</th>\n",
       "      <td>ApplyEyeMakeup/v_ApplyEyeMakeup_g08_c03.avi 1</td>\n",
       "    </tr>\n",
       "    <tr>\n",
       "      <th>3</th>\n",
       "      <td>ApplyEyeMakeup/v_ApplyEyeMakeup_g08_c04.avi 1</td>\n",
       "    </tr>\n",
       "    <tr>\n",
       "      <th>4</th>\n",
       "      <td>ApplyEyeMakeup/v_ApplyEyeMakeup_g08_c05.avi 1</td>\n",
       "    </tr>\n",
       "  </tbody>\n",
       "</table>\n",
       "</div>"
      ],
      "text/plain": [
       "                                      video_name\n",
       "0  ApplyEyeMakeup/v_ApplyEyeMakeup_g08_c01.avi 1\n",
       "1  ApplyEyeMakeup/v_ApplyEyeMakeup_g08_c02.avi 1\n",
       "2  ApplyEyeMakeup/v_ApplyEyeMakeup_g08_c03.avi 1\n",
       "3  ApplyEyeMakeup/v_ApplyEyeMakeup_g08_c04.avi 1\n",
       "4  ApplyEyeMakeup/v_ApplyEyeMakeup_g08_c05.avi 1"
      ]
     },
     "execution_count": 2,
     "metadata": {},
     "output_type": "execute_result"
    }
   ],
   "source": [
    "# Open the .txt file which have names of training videos\n",
    "f = open(\"ucfTrainTestlist/trainlist01.txt\", \"r\")\n",
    "temp = f.read()\n",
    "videos = temp.split('\\n')\n",
    "\n",
    "# Create a dataframe having video names\n",
    "train = pd.DataFrame()\n",
    "train['video_name'] = videos\n",
    "train = train[:-1]\n",
    "train.head()"
   ]
  },
  {
   "cell_type": "code",
   "execution_count": 3,
   "id": "c366dd0d",
   "metadata": {},
   "outputs": [
    {
     "data": {
      "text/html": [
       "<div>\n",
       "<style scoped>\n",
       "    .dataframe tbody tr th:only-of-type {\n",
       "        vertical-align: middle;\n",
       "    }\n",
       "\n",
       "    .dataframe tbody tr th {\n",
       "        vertical-align: top;\n",
       "    }\n",
       "\n",
       "    .dataframe thead th {\n",
       "        text-align: right;\n",
       "    }\n",
       "</style>\n",
       "<table border=\"1\" class=\"dataframe\">\n",
       "  <thead>\n",
       "    <tr style=\"text-align: right;\">\n",
       "      <th></th>\n",
       "      <th>video_name</th>\n",
       "    </tr>\n",
       "  </thead>\n",
       "  <tbody>\n",
       "    <tr>\n",
       "      <th>0</th>\n",
       "      <td>ApplyEyeMakeup/v_ApplyEyeMakeup_g01_c01.avi</td>\n",
       "    </tr>\n",
       "    <tr>\n",
       "      <th>1</th>\n",
       "      <td>ApplyEyeMakeup/v_ApplyEyeMakeup_g01_c02.avi</td>\n",
       "    </tr>\n",
       "    <tr>\n",
       "      <th>2</th>\n",
       "      <td>ApplyEyeMakeup/v_ApplyEyeMakeup_g01_c03.avi</td>\n",
       "    </tr>\n",
       "    <tr>\n",
       "      <th>3</th>\n",
       "      <td>ApplyEyeMakeup/v_ApplyEyeMakeup_g01_c04.avi</td>\n",
       "    </tr>\n",
       "    <tr>\n",
       "      <th>4</th>\n",
       "      <td>ApplyEyeMakeup/v_ApplyEyeMakeup_g01_c05.avi</td>\n",
       "    </tr>\n",
       "  </tbody>\n",
       "</table>\n",
       "</div>"
      ],
      "text/plain": [
       "                                    video_name\n",
       "0  ApplyEyeMakeup/v_ApplyEyeMakeup_g01_c01.avi\n",
       "1  ApplyEyeMakeup/v_ApplyEyeMakeup_g01_c02.avi\n",
       "2  ApplyEyeMakeup/v_ApplyEyeMakeup_g01_c03.avi\n",
       "3  ApplyEyeMakeup/v_ApplyEyeMakeup_g01_c04.avi\n",
       "4  ApplyEyeMakeup/v_ApplyEyeMakeup_g01_c05.avi"
      ]
     },
     "execution_count": 3,
     "metadata": {},
     "output_type": "execute_result"
    }
   ],
   "source": [
    "# Open the .txt file which have names of test videos\n",
    "with open(\"ucfTrainTestlist/testlist01.txt\", \"r\") as f:\n",
    "    temp = f.read()\n",
    "videos = temp.split(\"\\n\")\n",
    "\n",
    "# Create a dataframe having video names\n",
    "test = pd.DataFrame()\n",
    "test[\"video_name\"] = videos\n",
    "test = test[:-1]\n",
    "test.head()"
   ]
  },
  {
   "cell_type": "markdown",
   "id": "46fa68ec",
   "metadata": {},
   "source": [
    "# Helper Functions"
   ]
  },
  {
   "cell_type": "code",
   "execution_count": 4,
   "id": "dd2b888e",
   "metadata": {},
   "outputs": [],
   "source": [
    "def extract_tag(video_path):\n",
    "    return video_path.split(\"/\")[0]\n",
    "\n",
    "def separate_video_name(video_name):\n",
    "    return video_name.split(\"/\")[1]\n",
    "\n",
    "def rectify_video_name(video_name):\n",
    "    return video_name.split(\" \")[0]\n",
    "\n",
    "def move_videos(df, output_dir):\n",
    "    if not os.path.exists(output_dir):\n",
    "        os.mkdir(output_dir)\n",
    "    for i in tqdm(range(df.shape[0])):\n",
    "        videoFile = df['video_name'][i]\n",
    "        print(videoFile)\n",
    "        videoPath = os.path.join(\"UCF101\",df['tag'][i],videoFile)\n",
    "        shutil.copy2(videoPath, output_dir)\n",
    "    print()\n",
    "    print(f\"Total videos: {len(os.listdir(output_dir))}\")"
   ]
  },
  {
   "cell_type": "markdown",
   "id": "ef433f38",
   "metadata": {},
   "source": [
    "# DataFrame Preparation"
   ]
  },
  {
   "cell_type": "code",
   "execution_count": 5,
   "id": "01af0e2d",
   "metadata": {},
   "outputs": [
    {
     "data": {
      "text/html": [
       "<div>\n",
       "<style scoped>\n",
       "    .dataframe tbody tr th:only-of-type {\n",
       "        vertical-align: middle;\n",
       "    }\n",
       "\n",
       "    .dataframe tbody tr th {\n",
       "        vertical-align: top;\n",
       "    }\n",
       "\n",
       "    .dataframe thead th {\n",
       "        text-align: right;\n",
       "    }\n",
       "</style>\n",
       "<table border=\"1\" class=\"dataframe\">\n",
       "  <thead>\n",
       "    <tr style=\"text-align: right;\">\n",
       "      <th></th>\n",
       "      <th>video_name</th>\n",
       "      <th>tag</th>\n",
       "    </tr>\n",
       "  </thead>\n",
       "  <tbody>\n",
       "    <tr>\n",
       "      <th>0</th>\n",
       "      <td>v_ApplyEyeMakeup_g08_c01.avi 1</td>\n",
       "      <td>ApplyEyeMakeup</td>\n",
       "    </tr>\n",
       "    <tr>\n",
       "      <th>1</th>\n",
       "      <td>v_ApplyEyeMakeup_g08_c02.avi 1</td>\n",
       "      <td>ApplyEyeMakeup</td>\n",
       "    </tr>\n",
       "    <tr>\n",
       "      <th>2</th>\n",
       "      <td>v_ApplyEyeMakeup_g08_c03.avi 1</td>\n",
       "      <td>ApplyEyeMakeup</td>\n",
       "    </tr>\n",
       "    <tr>\n",
       "      <th>3</th>\n",
       "      <td>v_ApplyEyeMakeup_g08_c04.avi 1</td>\n",
       "      <td>ApplyEyeMakeup</td>\n",
       "    </tr>\n",
       "    <tr>\n",
       "      <th>4</th>\n",
       "      <td>v_ApplyEyeMakeup_g08_c05.avi 1</td>\n",
       "      <td>ApplyEyeMakeup</td>\n",
       "    </tr>\n",
       "  </tbody>\n",
       "</table>\n",
       "</div>"
      ],
      "text/plain": [
       "                       video_name             tag\n",
       "0  v_ApplyEyeMakeup_g08_c01.avi 1  ApplyEyeMakeup\n",
       "1  v_ApplyEyeMakeup_g08_c02.avi 1  ApplyEyeMakeup\n",
       "2  v_ApplyEyeMakeup_g08_c03.avi 1  ApplyEyeMakeup\n",
       "3  v_ApplyEyeMakeup_g08_c04.avi 1  ApplyEyeMakeup\n",
       "4  v_ApplyEyeMakeup_g08_c05.avi 1  ApplyEyeMakeup"
      ]
     },
     "execution_count": 5,
     "metadata": {},
     "output_type": "execute_result"
    }
   ],
   "source": [
    "train[\"tag\"] = train[\"video_name\"].apply(extract_tag)\n",
    "train[\"video_name\"] = train[\"video_name\"].apply(separate_video_name)\n",
    "train.head()"
   ]
  },
  {
   "cell_type": "code",
   "execution_count": 6,
   "id": "90e7aecb",
   "metadata": {},
   "outputs": [
    {
     "data": {
      "text/html": [
       "<div>\n",
       "<style scoped>\n",
       "    .dataframe tbody tr th:only-of-type {\n",
       "        vertical-align: middle;\n",
       "    }\n",
       "\n",
       "    .dataframe tbody tr th {\n",
       "        vertical-align: top;\n",
       "    }\n",
       "\n",
       "    .dataframe thead th {\n",
       "        text-align: right;\n",
       "    }\n",
       "</style>\n",
       "<table border=\"1\" class=\"dataframe\">\n",
       "  <thead>\n",
       "    <tr style=\"text-align: right;\">\n",
       "      <th></th>\n",
       "      <th>video_name</th>\n",
       "      <th>tag</th>\n",
       "    </tr>\n",
       "  </thead>\n",
       "  <tbody>\n",
       "    <tr>\n",
       "      <th>0</th>\n",
       "      <td>v_ApplyEyeMakeup_g08_c01.avi</td>\n",
       "      <td>ApplyEyeMakeup</td>\n",
       "    </tr>\n",
       "    <tr>\n",
       "      <th>1</th>\n",
       "      <td>v_ApplyEyeMakeup_g08_c02.avi</td>\n",
       "      <td>ApplyEyeMakeup</td>\n",
       "    </tr>\n",
       "    <tr>\n",
       "      <th>2</th>\n",
       "      <td>v_ApplyEyeMakeup_g08_c03.avi</td>\n",
       "      <td>ApplyEyeMakeup</td>\n",
       "    </tr>\n",
       "    <tr>\n",
       "      <th>3</th>\n",
       "      <td>v_ApplyEyeMakeup_g08_c04.avi</td>\n",
       "      <td>ApplyEyeMakeup</td>\n",
       "    </tr>\n",
       "    <tr>\n",
       "      <th>4</th>\n",
       "      <td>v_ApplyEyeMakeup_g08_c05.avi</td>\n",
       "      <td>ApplyEyeMakeup</td>\n",
       "    </tr>\n",
       "  </tbody>\n",
       "</table>\n",
       "</div>"
      ],
      "text/plain": [
       "                     video_name             tag\n",
       "0  v_ApplyEyeMakeup_g08_c01.avi  ApplyEyeMakeup\n",
       "1  v_ApplyEyeMakeup_g08_c02.avi  ApplyEyeMakeup\n",
       "2  v_ApplyEyeMakeup_g08_c03.avi  ApplyEyeMakeup\n",
       "3  v_ApplyEyeMakeup_g08_c04.avi  ApplyEyeMakeup\n",
       "4  v_ApplyEyeMakeup_g08_c05.avi  ApplyEyeMakeup"
      ]
     },
     "execution_count": 6,
     "metadata": {},
     "output_type": "execute_result"
    }
   ],
   "source": [
    "train[\"video_name\"] = train[\"video_name\"].apply(rectify_video_name)\n",
    "train.head()"
   ]
  },
  {
   "cell_type": "code",
   "execution_count": 7,
   "id": "a4b04000",
   "metadata": {},
   "outputs": [
    {
     "data": {
      "text/html": [
       "<div>\n",
       "<style scoped>\n",
       "    .dataframe tbody tr th:only-of-type {\n",
       "        vertical-align: middle;\n",
       "    }\n",
       "\n",
       "    .dataframe tbody tr th {\n",
       "        vertical-align: top;\n",
       "    }\n",
       "\n",
       "    .dataframe thead th {\n",
       "        text-align: right;\n",
       "    }\n",
       "</style>\n",
       "<table border=\"1\" class=\"dataframe\">\n",
       "  <thead>\n",
       "    <tr style=\"text-align: right;\">\n",
       "      <th></th>\n",
       "      <th>video_name</th>\n",
       "      <th>tag</th>\n",
       "    </tr>\n",
       "  </thead>\n",
       "  <tbody>\n",
       "    <tr>\n",
       "      <th>0</th>\n",
       "      <td>v_ApplyEyeMakeup_g01_c01.avi</td>\n",
       "      <td>ApplyEyeMakeup</td>\n",
       "    </tr>\n",
       "    <tr>\n",
       "      <th>1</th>\n",
       "      <td>v_ApplyEyeMakeup_g01_c02.avi</td>\n",
       "      <td>ApplyEyeMakeup</td>\n",
       "    </tr>\n",
       "    <tr>\n",
       "      <th>2</th>\n",
       "      <td>v_ApplyEyeMakeup_g01_c03.avi</td>\n",
       "      <td>ApplyEyeMakeup</td>\n",
       "    </tr>\n",
       "    <tr>\n",
       "      <th>3</th>\n",
       "      <td>v_ApplyEyeMakeup_g01_c04.avi</td>\n",
       "      <td>ApplyEyeMakeup</td>\n",
       "    </tr>\n",
       "    <tr>\n",
       "      <th>4</th>\n",
       "      <td>v_ApplyEyeMakeup_g01_c05.avi</td>\n",
       "      <td>ApplyEyeMakeup</td>\n",
       "    </tr>\n",
       "  </tbody>\n",
       "</table>\n",
       "</div>"
      ],
      "text/plain": [
       "                     video_name             tag\n",
       "0  v_ApplyEyeMakeup_g01_c01.avi  ApplyEyeMakeup\n",
       "1  v_ApplyEyeMakeup_g01_c02.avi  ApplyEyeMakeup\n",
       "2  v_ApplyEyeMakeup_g01_c03.avi  ApplyEyeMakeup\n",
       "3  v_ApplyEyeMakeup_g01_c04.avi  ApplyEyeMakeup\n",
       "4  v_ApplyEyeMakeup_g01_c05.avi  ApplyEyeMakeup"
      ]
     },
     "execution_count": 7,
     "metadata": {},
     "output_type": "execute_result"
    }
   ],
   "source": [
    "test[\"tag\"] = test[\"video_name\"].apply(extract_tag)\n",
    "test[\"video_name\"] = test[\"video_name\"].apply(separate_video_name)\n",
    "test.head()"
   ]
  },
  {
   "cell_type": "markdown",
   "id": "8234222b",
   "metadata": {},
   "source": [
    "# Filtering top n Actions"
   ]
  },
  {
   "cell_type": "code",
   "execution_count": 8,
   "id": "14b8d2bd",
   "metadata": {},
   "outputs": [
    {
     "data": {
      "text/plain": [
       "((1171, 2), (459, 2))"
      ]
     },
     "execution_count": 8,
     "metadata": {},
     "output_type": "execute_result"
    }
   ],
   "source": [
    "n = 10\n",
    "topNActs = train[\"tag\"].value_counts().nlargest(n).reset_index()[\"index\"].tolist()\n",
    "train_new = train[train[\"tag\"].isin(topNActs)]\n",
    "test_new = test[test[\"tag\"].isin(topNActs)]\n",
    "train_new.shape, test_new.shape"
   ]
  },
  {
   "cell_type": "code",
   "execution_count": 9,
   "id": "33340da5",
   "metadata": {},
   "outputs": [],
   "source": [
    "train_new = train_new.reset_index(drop=True)\n",
    "test_new = test_new.reset_index(drop=True)"
   ]
  },
  {
   "cell_type": "markdown",
   "id": "585a828c",
   "metadata": {},
   "source": [
    "# Move Videos"
   ]
  },
  {
   "cell_type": "code",
   "execution_count": 10,
   "id": "d6af6284",
   "metadata": {},
   "outputs": [
    {
     "name": "stderr",
     "output_type": "stream",
     "text": [
      "  1%|▍                                                                                | 6/1171 [00:00<00:20, 56.06it/s]"
     ]
    },
    {
     "name": "stdout",
     "output_type": "stream",
     "text": [
      "v_BoxingPunchingBag_g08_c01.avi\n",
      "v_BoxingPunchingBag_g08_c02.avi\n",
      "v_BoxingPunchingBag_g08_c03.avi\n",
      "v_BoxingPunchingBag_g08_c04.avi\n",
      "v_BoxingPunchingBag_g08_c05.avi\n",
      "v_BoxingPunchingBag_g08_c06.avi\n",
      "v_BoxingPunchingBag_g08_c07.avi\n",
      "v_BoxingPunchingBag_g09_c01.avi\n",
      "v_BoxingPunchingBag_g09_c02.avi\n",
      "v_BoxingPunchingBag_g09_c03.avi\n",
      "v_BoxingPunchingBag_g09_c04.avi\n",
      "v_BoxingPunchingBag_g09_c05.avi\n",
      "v_BoxingPunchingBag_g09_c06.avi\n",
      "v_BoxingPunchingBag_g09_c07.avi\n",
      "v_BoxingPunchingBag_g10_c01.avi\n",
      "v_BoxingPunchingBag_g10_c02.avi"
     ]
    },
    {
     "name": "stderr",
     "output_type": "stream",
     "text": [
      "  3%|██▎                                                                            | 35/1171 [00:00<00:09, 122.03it/s]"
     ]
    },
    {
     "name": "stdout",
     "output_type": "stream",
     "text": [
      "\n",
      "v_BoxingPunchingBag_g10_c03.avi\n",
      "v_BoxingPunchingBag_g10_c04.avi\n",
      "v_BoxingPunchingBag_g11_c01.avi\n",
      "v_BoxingPunchingBag_g11_c02.avi\n",
      "v_BoxingPunchingBag_g11_c03.avi\n",
      "v_BoxingPunchingBag_g11_c04.avi\n",
      "v_BoxingPunchingBag_g11_c05.avi\n",
      "v_BoxingPunchingBag_g12_c01.avi\n",
      "v_BoxingPunchingBag_g12_c02.avi\n",
      "v_BoxingPunchingBag_g12_c03.avi\n",
      "v_BoxingPunchingBag_g12_c04.avi\n",
      "v_BoxingPunchingBag_g12_c05.avi\n",
      "v_BoxingPunchingBag_g12_c06.avi\n",
      "v_BoxingPunchingBag_g12_c07.avi\n",
      "v_BoxingPunchingBag_g13_c01.avi\n",
      "v_BoxingPunchingBag_g13_c02.avi\n",
      "v_BoxingPunchingBag_g13_c03.avi\n",
      "v_BoxingPunchingBag_g13_c04.avi\n",
      "v_BoxingPunchingBag_g14_c01.avi\n",
      "v_BoxingPunchingBag_g14_c02.avi\n",
      "v_BoxingPunchingBag_g14_c03.avi\n",
      "v_BoxingPunchingBag_g14_c04.avi\n",
      "v_BoxingPunchingBag_g14_c05.avi\n",
      "v_BoxingPunchingBag_g14_c06.avi\n",
      "v_BoxingPunchingBag_g14_c07.avi\n",
      "v_BoxingPunchingBag_g15_c01.avi\n",
      "v_BoxingPunchingBag_g15_c02.avi\n",
      "v_BoxingPunchingBag_g15_c03.avi\n",
      "v_BoxingPunchingBag_g15_c04.avi\n",
      "v_BoxingPunchingBag_g15_c05.avi\n"
     ]
    },
    {
     "name": "stderr",
     "output_type": "stream",
     "text": [
      "\r",
      "  4%|███▎                                                                           | 49/1171 [00:00<00:10, 110.74it/s]"
     ]
    },
    {
     "name": "stdout",
     "output_type": "stream",
     "text": [
      "v_BoxingPunchingBag_g15_c06.avi\n",
      "v_BoxingPunchingBag_g15_c07.avi\n",
      "v_BoxingPunchingBag_g16_c01.avi\n",
      "v_BoxingPunchingBag_g16_c02.avi\n",
      "v_BoxingPunchingBag_g16_c03.avi\n",
      "v_BoxingPunchingBag_g16_c04.avi\n",
      "v_BoxingPunchingBag_g16_c05.avi\n",
      "v_BoxingPunchingBag_g16_c06.avi\n",
      "v_BoxingPunchingBag_g16_c07.avi\n",
      "v_BoxingPunchingBag_g17_c01.avi\n",
      "v_BoxingPunchingBag_g17_c02.avi\n",
      "v_BoxingPunchingBag_g17_c03.avi\n",
      "v_BoxingPunchingBag_g17_c04.avi\n",
      "v_BoxingPunchingBag_g18_c01.avi"
     ]
    },
    {
     "name": "stderr",
     "output_type": "stream",
     "text": [
      "  7%|█████▎                                                                         | 78/1171 [00:00<00:09, 118.24it/s]"
     ]
    },
    {
     "name": "stdout",
     "output_type": "stream",
     "text": [
      "\n",
      "v_BoxingPunchingBag_g18_c02.avi\n",
      "v_BoxingPunchingBag_g18_c03.avi\n",
      "v_BoxingPunchingBag_g18_c04.avi\n",
      "v_BoxingPunchingBag_g18_c05.avi\n",
      "v_BoxingPunchingBag_g18_c06.avi\n",
      "v_BoxingPunchingBag_g19_c01.avi\n",
      "v_BoxingPunchingBag_g19_c02.avi\n",
      "v_BoxingPunchingBag_g19_c03.avi\n",
      "v_BoxingPunchingBag_g19_c04.avi\n",
      "v_BoxingPunchingBag_g19_c05.avi\n",
      "v_BoxingPunchingBag_g19_c06.avi\n",
      "v_BoxingPunchingBag_g19_c07.avi\n",
      "v_BoxingPunchingBag_g20_c01.avi\n",
      "v_BoxingPunchingBag_g20_c02.avi\n",
      "v_BoxingPunchingBag_g20_c03.avi\n",
      "v_BoxingPunchingBag_g20_c04.avi\n",
      "v_BoxingPunchingBag_g20_c05.avi\n",
      "v_BoxingPunchingBag_g20_c06.avi\n",
      "v_BoxingPunchingBag_g20_c07.avi\n",
      "v_BoxingPunchingBag_g21_c01.avi\n",
      "v_BoxingPunchingBag_g21_c02.avi\n",
      "v_BoxingPunchingBag_g21_c03.avi\n",
      "v_BoxingPunchingBag_g21_c04.avi\n",
      "v_BoxingPunchingBag_g21_c05.avi\n",
      "v_BoxingPunchingBag_g21_c06.avi"
     ]
    },
    {
     "name": "stderr",
     "output_type": "stream",
     "text": [
      "  9%|███████                                                                       | 106/1171 [00:00<00:08, 123.68it/s]"
     ]
    },
    {
     "name": "stdout",
     "output_type": "stream",
     "text": [
      "\n",
      "v_BoxingPunchingBag_g21_c07.avi\n",
      "v_BoxingPunchingBag_g22_c01.avi\n",
      "v_BoxingPunchingBag_g22_c02.avi\n",
      "v_BoxingPunchingBag_g22_c03.avi\n",
      "v_BoxingPunchingBag_g22_c04.avi\n",
      "v_BoxingPunchingBag_g22_c05.avi\n",
      "v_BoxingPunchingBag_g22_c06.avi\n",
      "v_BoxingPunchingBag_g22_c07.avi\n",
      "v_BoxingPunchingBag_g23_c01.avi\n",
      "v_BoxingPunchingBag_g23_c02.avi\n",
      "v_BoxingPunchingBag_g23_c03.avi\n",
      "v_BoxingPunchingBag_g23_c04.avi\n",
      "v_BoxingPunchingBag_g23_c05.avi\n",
      "v_BoxingPunchingBag_g23_c06.avi\n",
      "v_BoxingPunchingBag_g23_c07.avi\n",
      "v_BoxingPunchingBag_g24_c01.avi\n",
      "v_BoxingPunchingBag_g24_c02.avi\n",
      "v_BoxingPunchingBag_g24_c03.avi\n",
      "v_BoxingPunchingBag_g24_c04.avi\n",
      "v_BoxingPunchingBag_g24_c05.avi\n",
      "v_BoxingPunchingBag_g24_c06.avi\n",
      "v_BoxingPunchingBag_g24_c07.avi\n",
      "v_BoxingPunchingBag_g25_c01.avi\n",
      "v_BoxingPunchingBag_g25_c02.avi"
     ]
    },
    {
     "name": "stderr",
     "output_type": "stream",
     "text": [
      "\r",
      " 11%|████████▍                                                                     | 126/1171 [00:01<00:07, 144.37it/s]"
     ]
    },
    {
     "name": "stdout",
     "output_type": "stream",
     "text": [
      "\n",
      "v_BoxingPunchingBag_g25_c03.avi\n",
      "v_BoxingPunchingBag_g25_c04.avi\n",
      "v_BoxingPunchingBag_g25_c05.avi\n",
      "v_BoxingPunchingBag_g25_c06.avi\n",
      "v_BoxingPunchingBag_g25_c07.avi\n",
      "v_CricketShot_g08_c01.avi\n",
      "v_CricketShot_g08_c02.avi\n",
      "v_CricketShot_g08_c03.avi\n",
      "v_CricketShot_g08_c04.avi\n",
      "v_CricketShot_g08_c05.avi\n",
      "v_CricketShot_g08_c06.avi\n",
      "v_CricketShot_g08_c07.avi\n",
      "v_CricketShot_g09_c01.avi\n",
      "v_CricketShot_g09_c02.avi\n",
      "v_CricketShot_g09_c03.avi\n",
      "v_CricketShot_g09_c04.avi\n",
      "v_CricketShot_g09_c05.avi\n",
      "v_CricketShot_g09_c06.avi\n",
      "v_CricketShot_g09_c07.avi\n",
      "v_CricketShot_g10_c01.avi\n",
      "v_CricketShot_g10_c02.avi\n",
      "v_CricketShot_g10_c03.avi\n",
      "v_CricketShot_g10_c04.avi\n",
      "v_CricketShot_g10_c05.avi\n",
      "v_CricketShot_g10_c06.avi\n",
      "v_CricketShot_g10_c07.avi\n",
      "v_CricketShot_g11_c01.avi\n",
      "v_CricketShot_g11_c02.avi\n",
      "v_CricketShot_g11_c03.avi\n",
      "v_CricketShot_g11_c04.avi\n",
      "v_CricketShot_g11_c05.avi\n",
      "v_CricketShot_g11_c06.avi\n",
      "v_CricketShot_g11_c07.avi\n",
      "v_CricketShot_g12_c01.avi\n",
      "v_CricketShot_g12_c02.avi\n"
     ]
    },
    {
     "name": "stderr",
     "output_type": "stream",
     "text": [
      " 15%|███████████▎                                                                  | 170/1171 [00:01<00:05, 180.84it/s]"
     ]
    },
    {
     "name": "stdout",
     "output_type": "stream",
     "text": [
      "v_CricketShot_g12_c03.avi\n",
      "v_CricketShot_g12_c04.avi\n",
      "v_CricketShot_g12_c05.avi\n",
      "v_CricketShot_g12_c06.avi\n",
      "v_CricketShot_g12_c07.avi\n",
      "v_CricketShot_g13_c01.avi\n",
      "v_CricketShot_g13_c02.avi\n",
      "v_CricketShot_g13_c03.avi\n",
      "v_CricketShot_g13_c04.avi\n",
      "v_CricketShot_g13_c05.avi\n",
      "v_CricketShot_g13_c06.avi\n",
      "v_CricketShot_g13_c07.avi\n",
      "v_CricketShot_g14_c01.avi\n",
      "v_CricketShot_g14_c02.avi\n",
      "v_CricketShot_g14_c03.avi\n",
      "v_CricketShot_g14_c04.avi\n",
      "v_CricketShot_g14_c05.avi\n",
      "v_CricketShot_g14_c06.avi\n",
      "v_CricketShot_g14_c07.avi\n",
      "v_CricketShot_g15_c01.avi\n",
      "v_CricketShot_g15_c02.avi\n",
      "v_CricketShot_g15_c03.avi\n",
      "v_CricketShot_g15_c04.avi\n",
      "v_CricketShot_g15_c05.avi\n",
      "v_CricketShot_g15_c06.avi\n",
      "v_CricketShot_g15_c07.avi\n",
      "v_CricketShot_g16_c01.avi\n",
      "v_CricketShot_g16_c02.avi\n",
      "v_CricketShot_g16_c03.avi\n",
      "v_CricketShot_g16_c04.avi\n",
      "v_CricketShot_g16_c05.avi\n",
      "v_CricketShot_g16_c06.avi\n",
      "v_CricketShot_g16_c07.avi\n",
      "v_CricketShot_g17_c01.avi\n",
      "v_CricketShot_g17_c02.avi\n",
      "v_CricketShot_g17_c03.avi\n",
      "v_CricketShot_g17_c04.avi\n",
      "v_CricketShot_g17_c05.avi\n"
     ]
    },
    {
     "name": "stderr",
     "output_type": "stream",
     "text": [
      " 18%|██████████████▏                                                               | 213/1171 [00:01<00:04, 194.16it/s]"
     ]
    },
    {
     "name": "stdout",
     "output_type": "stream",
     "text": [
      "v_CricketShot_g17_c06.avi\n",
      "v_CricketShot_g18_c01.avi\n",
      "v_CricketShot_g18_c02.avi\n",
      "v_CricketShot_g18_c03.avi\n",
      "v_CricketShot_g18_c04.avi\n",
      "v_CricketShot_g18_c05.avi\n",
      "v_CricketShot_g19_c01.avi\n",
      "v_CricketShot_g19_c02.avi\n",
      "v_CricketShot_g19_c03.avi\n",
      "v_CricketShot_g19_c04.avi\n",
      "v_CricketShot_g19_c05.avi\n",
      "v_CricketShot_g20_c01.avi\n",
      "v_CricketShot_g20_c02.avi\n",
      "v_CricketShot_g20_c03.avi\n",
      "v_CricketShot_g20_c04.avi\n",
      "v_CricketShot_g20_c05.avi\n",
      "v_CricketShot_g20_c06.avi\n",
      "v_CricketShot_g20_c07.avi\n",
      "v_CricketShot_g21_c01.avi\n",
      "v_CricketShot_g21_c02.avi\n",
      "v_CricketShot_g21_c03.avi\n",
      "v_CricketShot_g21_c04.avi\n",
      "v_CricketShot_g21_c05.avi\n",
      "v_CricketShot_g21_c06.avi\n",
      "v_CricketShot_g22_c01.avi\n",
      "v_CricketShot_g22_c02.avi\n",
      "v_CricketShot_g22_c03.avi\n",
      "v_CricketShot_g22_c04.avi\n",
      "v_CricketShot_g22_c05.avi\n",
      "v_CricketShot_g22_c06.avi\n",
      "v_CricketShot_g22_c07.avi\n",
      "v_CricketShot_g23_c01.avi\n",
      "v_CricketShot_g23_c02.avi\n",
      "v_CricketShot_g23_c03.avi\n",
      "v_CricketShot_g23_c04.avi\n",
      "v_CricketShot_g23_c05.avi\n",
      "v_CricketShot_g24_c01.avi\n",
      "v_CricketShot_g24_c02.avi\n",
      "v_CricketShot_g24_c03.avi\n",
      "v_CricketShot_g24_c04.avi\n",
      "v_CricketShot_g24_c05.avi\n",
      "v_CricketShot_g24_c06.avi\n",
      "v_CricketShot_g24_c07.avi\n",
      "v_CricketShot_g25_c01.avi"
     ]
    },
    {
     "name": "stderr",
     "output_type": "stream",
     "text": [
      "\r",
      " 20%|███████████████▌                                                              | 233/1171 [00:01<00:05, 182.68it/s]"
     ]
    },
    {
     "name": "stdout",
     "output_type": "stream",
     "text": [
      "\n",
      "v_CricketShot_g25_c02.avi\n",
      "v_CricketShot_g25_c03.avi\n",
      "v_CricketShot_g25_c04.avi\n",
      "v_CricketShot_g25_c05.avi\n",
      "v_CricketShot_g25_c06.avi\n",
      "v_CricketShot_g25_c07.avi\n",
      "v_Drumming_g08_c01.avi\n",
      "v_Drumming_g08_c02.avi\n",
      "v_Drumming_g08_c03.avi\n",
      "v_Drumming_g08_c04.avi\n",
      "v_Drumming_g08_c05.avi\n",
      "v_Drumming_g09_c01.avi\n",
      "v_Drumming_g09_c02.avi\n",
      "v_Drumming_g09_c03.avi\n",
      "v_Drumming_g09_c04.avi\n",
      "v_Drumming_g10_c01.avi\n",
      "v_Drumming_g10_c02.avi\n",
      "v_Drumming_g10_c03.avi\n",
      "v_Drumming_g10_c04.avi\n",
      "v_Drumming_g10_c05.avi\n",
      "v_Drumming_g10_c06.avi\n",
      "v_Drumming_g10_c07.avi\n",
      "v_Drumming_g11_c01.avi\n",
      "v_Drumming_g11_c02.avi\n",
      "v_Drumming_g11_c03.avi\n"
     ]
    },
    {
     "name": "stderr",
     "output_type": "stream",
     "text": [
      " 23%|█████████████████▉                                                            | 270/1171 [00:01<00:05, 158.72it/s]"
     ]
    },
    {
     "name": "stdout",
     "output_type": "stream",
     "text": [
      "v_Drumming_g11_c04.avi\n",
      "v_Drumming_g11_c05.avi\n",
      "v_Drumming_g11_c06.avi\n",
      "v_Drumming_g11_c07.avi\n",
      "v_Drumming_g12_c01.avi\n",
      "v_Drumming_g12_c02.avi\n",
      "v_Drumming_g12_c03.avi\n",
      "v_Drumming_g12_c04.avi\n",
      "v_Drumming_g12_c05.avi\n",
      "v_Drumming_g12_c06.avi\n",
      "v_Drumming_g12_c07.avi\n",
      "v_Drumming_g13_c01.avi\n",
      "v_Drumming_g13_c02.avi\n",
      "v_Drumming_g13_c03.avi\n",
      "v_Drumming_g13_c04.avi\n",
      "v_Drumming_g13_c05.avi\n",
      "v_Drumming_g13_c06.avi\n",
      "v_Drumming_g13_c07.avi\n",
      "v_Drumming_g14_c01.avi\n",
      "v_Drumming_g14_c02.avi\n",
      "v_Drumming_g14_c03.avi\n",
      "v_Drumming_g14_c04.avi\n",
      "v_Drumming_g14_c05.avi\n",
      "v_Drumming_g14_c06.avi\n",
      "v_Drumming_g15_c01.avi"
     ]
    },
    {
     "name": "stderr",
     "output_type": "stream",
     "text": [
      "\r",
      " 25%|███████████████████                                                           | 287/1171 [00:02<00:06, 139.02it/s]"
     ]
    },
    {
     "name": "stdout",
     "output_type": "stream",
     "text": [
      "\n",
      "v_Drumming_g15_c02.avi\n",
      "v_Drumming_g15_c03.avi\n",
      "v_Drumming_g15_c04.avi\n",
      "v_Drumming_g15_c05.avi\n",
      "v_Drumming_g15_c06.avi\n",
      "v_Drumming_g15_c07.avi\n",
      "v_Drumming_g16_c01.avi\n",
      "v_Drumming_g16_c02.avi\n",
      "v_Drumming_g16_c03.avi\n",
      "v_Drumming_g16_c04.avi\n",
      "v_Drumming_g16_c05.avi\n",
      "v_Drumming_g16_c06.avi\n",
      "v_Drumming_g16_c07.avi\n",
      "v_Drumming_g17_c01.avi\n",
      "v_Drumming_g17_c02.avi\n",
      "v_Drumming_g17_c03.avi\n",
      "v_Drumming_g17_c04.avi\n",
      "v_Drumming_g17_c05.avi\n",
      "v_Drumming_g17_c06.avi\n",
      "v_Drumming_g17_c07.avi\n",
      "v_Drumming_g18_c01.avi"
     ]
    },
    {
     "name": "stderr",
     "output_type": "stream",
     "text": [
      "\r",
      " 26%|████████████████████                                                          | 302/1171 [00:02<00:06, 129.52it/s]"
     ]
    },
    {
     "name": "stdout",
     "output_type": "stream",
     "text": [
      "\n",
      "v_Drumming_g18_c02.avi\n",
      "v_Drumming_g18_c03.avi\n",
      "v_Drumming_g18_c04.avi\n",
      "v_Drumming_g18_c05.avi\n",
      "v_Drumming_g18_c06.avi\n",
      "v_Drumming_g19_c01.avi\n",
      "v_Drumming_g19_c02.avi\n",
      "v_Drumming_g19_c03.avi\n",
      "v_Drumming_g19_c04.avi\n",
      "v_Drumming_g19_c05.avi\n",
      "v_Drumming_g19_c06.avi\n",
      "v_Drumming_g19_c07.avi\n",
      "v_Drumming_g20_c01.avi\n",
      "v_Drumming_g20_c02.avi\n",
      "v_Drumming_g20_c03.avi\n",
      "v_Drumming_g20_c04.avi\n",
      "v_Drumming_g20_c05.avi\n",
      "v_Drumming_g20_c06.avi\n",
      "v_Drumming_g20_c07.avi"
     ]
    },
    {
     "name": "stderr",
     "output_type": "stream",
     "text": [
      " 28%|█████████████████████▉                                                        | 329/1171 [00:02<00:07, 110.16it/s]"
     ]
    },
    {
     "name": "stdout",
     "output_type": "stream",
     "text": [
      "\n",
      "v_Drumming_g21_c01.avi\n",
      "v_Drumming_g21_c02.avi\n",
      "v_Drumming_g21_c03.avi\n",
      "v_Drumming_g21_c04.avi\n",
      "v_Drumming_g21_c05.avi\n",
      "v_Drumming_g21_c06.avi\n",
      "v_Drumming_g21_c07.avi\n",
      "v_Drumming_g22_c01.avi\n",
      "v_Drumming_g22_c02.avi\n",
      "v_Drumming_g22_c03.avi\n",
      "v_Drumming_g22_c04.avi\n",
      "v_Drumming_g23_c01.avi\n",
      "v_Drumming_g23_c02.avi\n",
      "v_Drumming_g23_c03.avi\n",
      "v_Drumming_g23_c04.avi\n"
     ]
    },
    {
     "name": "stderr",
     "output_type": "stream",
     "text": [
      "\r",
      " 29%|██████████████████████▉                                                       | 345/1171 [00:02<00:06, 120.18it/s]"
     ]
    },
    {
     "name": "stdout",
     "output_type": "stream",
     "text": [
      "v_Drumming_g23_c05.avi\n",
      "v_Drumming_g23_c06.avi\n",
      "v_Drumming_g23_c07.avi\n",
      "v_Drumming_g24_c01.avi\n",
      "v_Drumming_g24_c02.avi\n",
      "v_Drumming_g24_c03.avi\n",
      "v_Drumming_g24_c04.avi\n",
      "v_Drumming_g24_c05.avi\n",
      "v_Drumming_g24_c06.avi\n",
      "v_Drumming_g24_c07.avi\n",
      "v_Drumming_g25_c01.avi\n",
      "v_Drumming_g25_c02.avi\n",
      "v_Drumming_g25_c03.avi\n",
      "v_Drumming_g25_c04.avi\n",
      "v_Drumming_g25_c05.avi\n",
      "v_Drumming_g25_c06.avi\n",
      "v_Drumming_g25_c07.avi\n",
      "v_HorseRiding_g08_c01.avi\n",
      "v_HorseRiding_g08_c02.avi\n"
     ]
    },
    {
     "name": "stderr",
     "output_type": "stream",
     "text": [
      "\r",
      " 31%|███████████████████████▊                                                      | 358/1171 [00:02<00:07, 104.86it/s]"
     ]
    },
    {
     "name": "stdout",
     "output_type": "stream",
     "text": [
      "v_HorseRiding_g08_c03.avi\n",
      "v_HorseRiding_g08_c04.avi\n",
      "v_HorseRiding_g08_c05.avi\n",
      "v_HorseRiding_g08_c06.avi\n",
      "v_HorseRiding_g09_c01.avi\n",
      "v_HorseRiding_g09_c02.avi\n",
      "v_HorseRiding_g09_c03.avi\n",
      "v_HorseRiding_g09_c04.avi\n",
      "v_HorseRiding_g09_c05.avi\n",
      "v_HorseRiding_g09_c06.avi\n",
      "v_HorseRiding_g10_c01.avi\n",
      "v_HorseRiding_g10_c02.avi\n",
      "v_HorseRiding_g10_c03.avi\n",
      "v_HorseRiding_g10_c04.avi\n",
      "v_HorseRiding_g10_c05.avi\n",
      "v_HorseRiding_g10_c06.avi\n",
      "v_HorseRiding_g10_c07.avi\n",
      "v_HorseRiding_g11_c01.avi\n",
      "v_HorseRiding_g11_c02.avi\n",
      "v_HorseRiding_g11_c03.avi\n",
      "v_HorseRiding_g11_c04.avi\n",
      "v_HorseRiding_g11_c05.avi\n"
     ]
    },
    {
     "name": "stderr",
     "output_type": "stream",
     "text": [
      " 33%|█████████████████████████▊                                                    | 388/1171 [00:02<00:06, 120.64it/s]"
     ]
    },
    {
     "name": "stdout",
     "output_type": "stream",
     "text": [
      "v_HorseRiding_g11_c06.avi\n",
      "v_HorseRiding_g11_c07.avi\n",
      "v_HorseRiding_g12_c01.avi\n",
      "v_HorseRiding_g12_c02.avi\n",
      "v_HorseRiding_g12_c03.avi\n",
      "v_HorseRiding_g12_c04.avi\n",
      "v_HorseRiding_g12_c05.avi\n",
      "v_HorseRiding_g12_c06.avi\n",
      "v_HorseRiding_g12_c07.avi\n",
      "v_HorseRiding_g13_c01.avi\n",
      "v_HorseRiding_g13_c02.avi\n",
      "v_HorseRiding_g13_c03.avi\n",
      "v_HorseRiding_g13_c04.avi\n",
      "v_HorseRiding_g14_c01.avi\n",
      "v_HorseRiding_g14_c02.avi\n",
      "v_HorseRiding_g14_c03.avi\n",
      "v_HorseRiding_g14_c04.avi\n",
      "v_HorseRiding_g14_c05.avi\n",
      "v_HorseRiding_g14_c06.avi\n",
      "v_HorseRiding_g14_c07.avi\n",
      "v_HorseRiding_g15_c01.avi\n",
      "v_HorseRiding_g15_c02.avi\n",
      "v_HorseRiding_g15_c03.avi\n",
      "v_HorseRiding_g15_c04.avi\n"
     ]
    },
    {
     "name": "stderr",
     "output_type": "stream",
     "text": [
      " 35%|███████████████████████████▉                                                   | 415/1171 [00:03<00:07, 95.59it/s]"
     ]
    },
    {
     "name": "stdout",
     "output_type": "stream",
     "text": [
      "v_HorseRiding_g15_c05.avi\n",
      "v_HorseRiding_g15_c06.avi\n",
      "v_HorseRiding_g16_c01.avi\n",
      "v_HorseRiding_g16_c02.avi\n",
      "v_HorseRiding_g16_c03.avi\n",
      "v_HorseRiding_g16_c04.avi\n",
      "v_HorseRiding_g16_c05.avi\n",
      "v_HorseRiding_g16_c06.avi\n",
      "v_HorseRiding_g17_c01.avi\n",
      "v_HorseRiding_g17_c02.avi\n",
      "v_HorseRiding_g17_c03.avi\n",
      "v_HorseRiding_g17_c04.avi\n",
      "v_HorseRiding_g17_c05.avi\n",
      "v_HorseRiding_g17_c06.avi\n",
      "v_HorseRiding_g18_c01.avi\n",
      "v_HorseRiding_g18_c02.avi\n",
      "v_HorseRiding_g18_c03.avi\n",
      "v_HorseRiding_g18_c04.avi\n",
      "v_HorseRiding_g18_c05.avi\n",
      "v_HorseRiding_g18_c06.avi\n",
      "v_HorseRiding_g19_c01.avi\n",
      "v_HorseRiding_g19_c02.avi\n",
      "v_HorseRiding_g19_c03.avi\n",
      "v_HorseRiding_g19_c04.avi\n",
      "v_HorseRiding_g19_c05.avi"
     ]
    },
    {
     "name": "stderr",
     "output_type": "stream",
     "text": [
      "\r",
      " 38%|█████████████████████████████▎                                                | 441/1171 [00:03<00:05, 131.23it/s]"
     ]
    },
    {
     "name": "stdout",
     "output_type": "stream",
     "text": [
      "\n",
      "v_HorseRiding_g19_c06.avi\n",
      "v_HorseRiding_g19_c07.avi\n",
      "v_HorseRiding_g20_c01.avi\n",
      "v_HorseRiding_g20_c02.avi\n",
      "v_HorseRiding_g20_c03.avi\n",
      "v_HorseRiding_g20_c04.avi\n",
      "v_HorseRiding_g20_c05.avi\n",
      "v_HorseRiding_g20_c06.avi\n",
      "v_HorseRiding_g20_c07.avi\n",
      "v_HorseRiding_g21_c01.avi\n",
      "v_HorseRiding_g21_c02.avi\n",
      "v_HorseRiding_g21_c03.avi\n",
      "v_HorseRiding_g21_c04.avi\n",
      "v_HorseRiding_g21_c05.avi\n",
      "v_HorseRiding_g21_c06.avi\n",
      "v_HorseRiding_g22_c01.avi\n",
      "v_HorseRiding_g22_c02.avi\n",
      "v_HorseRiding_g22_c03.avi\n",
      "v_HorseRiding_g22_c04.avi\n",
      "v_HorseRiding_g22_c05.avi\n",
      "v_HorseRiding_g22_c06.avi\n",
      "v_HorseRiding_g22_c07.avi\n",
      "v_HorseRiding_g23_c01.avi\n",
      "v_HorseRiding_g23_c02.avi\n",
      "v_HorseRiding_g23_c03.avi\n",
      "v_HorseRiding_g23_c04.avi\n",
      "v_HorseRiding_g23_c05.avi\n",
      "v_HorseRiding_g23_c06.avi\n",
      "v_HorseRiding_g24_c01.avi\n",
      "v_HorseRiding_g24_c02.avi\n",
      "v_HorseRiding_g24_c03.avi\n",
      "v_HorseRiding_g24_c04.avi\n",
      "v_HorseRiding_g24_c05.avi\n",
      "v_HorseRiding_g24_c06.avi\n",
      "v_HorseRiding_g24_c07.avi\n",
      "v_HorseRiding_g25_c01.avi\n",
      "v_HorseRiding_g25_c02.avi\n"
     ]
    },
    {
     "name": "stderr",
     "output_type": "stream",
     "text": [
      " 40%|███████████████████████████████▌                                              | 474/1171 [00:03<00:05, 121.58it/s]"
     ]
    },
    {
     "name": "stdout",
     "output_type": "stream",
     "text": [
      "v_HorseRiding_g25_c03.avi\n",
      "v_HorseRiding_g25_c04.avi\n",
      "v_HorseRiding_g25_c05.avi\n",
      "v_HorseRiding_g25_c06.avi\n",
      "v_HorseRiding_g25_c07.avi\n",
      "v_PlayingCello_g08_c01.avi\n",
      "v_PlayingCello_g08_c02.avi\n",
      "v_PlayingCello_g08_c03.avi\n",
      "v_PlayingCello_g08_c04.avi\n",
      "v_PlayingCello_g08_c05.avi\n",
      "v_PlayingCello_g08_c06.avi\n",
      "v_PlayingCello_g09_c01.avi\n",
      "v_PlayingCello_g09_c02.avi\n",
      "v_PlayingCello_g09_c03.avi\n",
      "v_PlayingCello_g09_c04.avi\n",
      "v_PlayingCello_g09_c05.avi\n",
      "v_PlayingCello_g09_c06.avi\n",
      "v_PlayingCello_g09_c07.avi\n",
      "v_PlayingCello_g10_c01.avi\n",
      "v_PlayingCello_g10_c02.avi\n"
     ]
    },
    {
     "name": "stderr",
     "output_type": "stream",
     "text": [
      "\r",
      " 42%|████████████████████████████████▊                                             | 492/1171 [00:03<00:05, 135.17it/s]"
     ]
    },
    {
     "name": "stdout",
     "output_type": "stream",
     "text": [
      "v_PlayingCello_g10_c03.avi\n",
      "v_PlayingCello_g10_c04.avi\n",
      "v_PlayingCello_g10_c05.avi\n",
      "v_PlayingCello_g10_c06.avi\n",
      "v_PlayingCello_g10_c07.avi\n",
      "v_PlayingCello_g11_c01.avi\n",
      "v_PlayingCello_g11_c02.avi\n",
      "v_PlayingCello_g11_c03.avi\n",
      "v_PlayingCello_g11_c04.avi\n",
      "v_PlayingCello_g11_c05.avi\n",
      "v_PlayingCello_g11_c06.avi\n",
      "v_PlayingCello_g11_c07.avi\n",
      "v_PlayingCello_g12_c01.avi\n",
      "v_PlayingCello_g12_c02.avi\n",
      "v_PlayingCello_g12_c03.avi\n",
      "v_PlayingCello_g12_c04.avi\n",
      "v_PlayingCello_g12_c05.avi\n",
      "v_PlayingCello_g12_c06.avi\n",
      "v_PlayingCello_g12_c07.avi\n",
      "v_PlayingCello_g13_c01.avi\n",
      "v_PlayingCello_g13_c02.avi\n",
      "v_PlayingCello_g13_c03.avi\n",
      "v_PlayingCello_g13_c04.avi\n",
      "v_PlayingCello_g13_c05.avi\n",
      "v_PlayingCello_g13_c06.avi\n",
      "v_PlayingCello_g13_c07.avi\n",
      "v_PlayingCello_g14_c01.avi\n",
      "v_PlayingCello_g14_c02.avi\n",
      "v_PlayingCello_g14_c03.avi\n",
      "v_PlayingCello_g14_c04.avi\n",
      "v_PlayingCello_g15_c01.avi\n",
      "v_PlayingCello_g15_c02.avi\n"
     ]
    },
    {
     "name": "stderr",
     "output_type": "stream",
     "text": [
      " 45%|███████████████████████████████████                                           | 526/1171 [00:04<00:04, 136.36it/s]"
     ]
    },
    {
     "name": "stdout",
     "output_type": "stream",
     "text": [
      "v_PlayingCello_g15_c03.avi\n",
      "v_PlayingCello_g15_c04.avi\n",
      "v_PlayingCello_g15_c05.avi\n",
      "v_PlayingCello_g15_c06.avi\n",
      "v_PlayingCello_g15_c07.avi\n",
      "v_PlayingCello_g16_c01.avi\n",
      "v_PlayingCello_g16_c02.avi\n",
      "v_PlayingCello_g16_c03.avi\n",
      "v_PlayingCello_g16_c04.avi\n",
      "v_PlayingCello_g16_c05.avi\n",
      "v_PlayingCello_g16_c06.avi\n",
      "v_PlayingCello_g16_c07.avi\n",
      "v_PlayingCello_g17_c01.avi\n",
      "v_PlayingCello_g17_c02.avi\n",
      "v_PlayingCello_g17_c03.avi\n",
      "v_PlayingCello_g17_c04.avi\n",
      "v_PlayingCello_g17_c05.avi\n",
      "v_PlayingCello_g17_c06.avi\n",
      "v_PlayingCello_g17_c07.avi\n",
      "v_PlayingCello_g18_c01.avi\n",
      "v_PlayingCello_g18_c02.avi\n",
      "v_PlayingCello_g18_c03.avi\n",
      "v_PlayingCello_g18_c04.avi\n",
      "v_PlayingCello_g18_c05.avi\n",
      "v_PlayingCello_g18_c06.avi\n",
      "v_PlayingCello_g18_c07.avi\n",
      "v_PlayingCello_g19_c01.avi\n",
      "v_PlayingCello_g19_c02.avi\n",
      "v_PlayingCello_g19_c03.avi\n"
     ]
    },
    {
     "name": "stderr",
     "output_type": "stream",
     "text": [
      "\r",
      " 46%|████████████████████████████████████▍                                          | 541/1171 [00:04<00:08, 71.27it/s]"
     ]
    },
    {
     "name": "stdout",
     "output_type": "stream",
     "text": [
      "v_PlayingCello_g19_c04.avi\n",
      "v_PlayingCello_g19_c05.avi\n",
      "v_PlayingCello_g19_c06.avi\n",
      "v_PlayingCello_g19_c07.avi\n",
      "v_PlayingCello_g20_c01.avi\n",
      "v_PlayingCello_g20_c02.avi\n",
      "v_PlayingCello_g20_c03.avi\n",
      "v_PlayingCello_g20_c04.avi\n",
      "v_PlayingCello_g20_c05.avi\n",
      "v_PlayingCello_g20_c06.avi\n",
      "v_PlayingCello_g20_c07.avi\n",
      "v_PlayingCello_g21_c01.avi\n",
      "v_PlayingCello_g21_c02.avi\n"
     ]
    },
    {
     "name": "stderr",
     "output_type": "stream",
     "text": [
      "\r",
      " 47%|█████████████████████████████████████▎                                         | 553/1171 [00:04<00:11, 54.71it/s]"
     ]
    },
    {
     "name": "stdout",
     "output_type": "stream",
     "text": [
      "v_PlayingCello_g21_c03.avi\n",
      "v_PlayingCello_g21_c04.avi\n",
      "v_PlayingCello_g21_c05.avi\n",
      "v_PlayingCello_g22_c01.avi\n",
      "v_PlayingCello_g22_c02.avi\n",
      "v_PlayingCello_g22_c03.avi\n",
      "v_PlayingCello_g22_c04.avi\n",
      "v_PlayingCello_g22_c05.avi\n",
      "v_PlayingCello_g22_c06.avi\n",
      "v_PlayingCello_g22_c07.avi\n"
     ]
    },
    {
     "name": "stderr",
     "output_type": "stream",
     "text": [
      "\r",
      " 48%|█████████████████████████████████████▉                                         | 562/1171 [00:05<00:18, 32.59it/s]"
     ]
    },
    {
     "name": "stdout",
     "output_type": "stream",
     "text": [
      "v_PlayingCello_g23_c01.avi\n",
      "v_PlayingCello_g23_c02.avi\n"
     ]
    },
    {
     "name": "stderr",
     "output_type": "stream",
     "text": [
      "\r",
      " 49%|██████████████████████████████████████▍                                        | 569/1171 [00:06<00:22, 27.22it/s]"
     ]
    },
    {
     "name": "stdout",
     "output_type": "stream",
     "text": [
      "v_PlayingCello_g23_c03.avi\n",
      "v_PlayingCello_g23_c04.avi\n",
      "v_PlayingCello_g23_c05.avi\n",
      "v_PlayingCello_g23_c06.avi\n",
      "v_PlayingCello_g23_c07.avi\n",
      "v_PlayingCello_g24_c01.avi\n",
      "v_PlayingCello_g24_c02.avi\n",
      "v_PlayingCello_g24_c03.avi\n",
      "v_PlayingCello_g24_c04.avi\n"
     ]
    },
    {
     "name": "stderr",
     "output_type": "stream",
     "text": [
      "\r",
      " 49%|██████████████████████████████████████▋                                        | 574/1171 [00:06<00:24, 24.29it/s]"
     ]
    },
    {
     "name": "stdout",
     "output_type": "stream",
     "text": [
      "v_PlayingCello_g24_c05.avi\n",
      "v_PlayingCello_g24_c06.avi\n",
      "v_PlayingCello_g24_c07.avi\n",
      "v_PlayingCello_g25_c01.avi\n",
      "v_PlayingCello_g25_c02.avi\n"
     ]
    },
    {
     "name": "stderr",
     "output_type": "stream",
     "text": [
      "\r",
      " 49%|██████████████████████████████████████▉                                        | 578/1171 [00:06<00:29, 20.38it/s]"
     ]
    },
    {
     "name": "stdout",
     "output_type": "stream",
     "text": [
      "v_PlayingCello_g25_c03.avi\n",
      "v_PlayingCello_g25_c04.avi\n"
     ]
    },
    {
     "name": "stderr",
     "output_type": "stream",
     "text": [
      " 50%|███████████████████████████████████████▍                                       | 585/1171 [00:07<00:47, 12.43it/s]"
     ]
    },
    {
     "name": "stdout",
     "output_type": "stream",
     "text": [
      "v_PlayingCello_g25_c05.avi\n",
      "v_PlayingCello_g25_c06.avi\n",
      "v_PlayingCello_g25_c07.avi\n",
      "v_PlayingDhol_g08_c01.avi\n",
      "v_PlayingDhol_g08_c02.avi\n",
      "v_PlayingDhol_g08_c03.avi\n",
      "v_PlayingDhol_g08_c04.avi\n",
      "v_PlayingDhol_g08_c05.avi\n",
      "v_PlayingDhol_g08_c06.avi\n",
      "v_PlayingDhol_g08_c07.avi\n",
      "v_PlayingDhol_g09_c01.avi\n",
      "v_PlayingDhol_g09_c02.avi\n",
      "v_PlayingDhol_g09_c03.avi\n"
     ]
    },
    {
     "name": "stderr",
     "output_type": "stream",
     "text": [
      " 51%|████████████████████████████████████████▋                                      | 603/1171 [00:08<00:22, 25.76it/s]"
     ]
    },
    {
     "name": "stdout",
     "output_type": "stream",
     "text": [
      "v_PlayingDhol_g09_c04.avi\n",
      "v_PlayingDhol_g09_c05.avi\n",
      "v_PlayingDhol_g09_c06.avi\n",
      "v_PlayingDhol_g09_c07.avi\n",
      "v_PlayingDhol_g10_c01.avi\n",
      "v_PlayingDhol_g10_c02.avi\n",
      "v_PlayingDhol_g10_c03.avi\n",
      "v_PlayingDhol_g10_c04.avi\n",
      "v_PlayingDhol_g10_c05.avi\n",
      "v_PlayingDhol_g10_c06.avi\n",
      "v_PlayingDhol_g10_c07.avi\n",
      "v_PlayingDhol_g11_c01.avi\n",
      "v_PlayingDhol_g11_c02.avi\n",
      "v_PlayingDhol_g11_c03.avi\n",
      "v_PlayingDhol_g11_c04.avi\n"
     ]
    },
    {
     "name": "stderr",
     "output_type": "stream",
     "text": [
      " 53%|█████████████████████████████████████████▉                                     | 622/1171 [00:08<00:12, 42.53it/s]"
     ]
    },
    {
     "name": "stdout",
     "output_type": "stream",
     "text": [
      "v_PlayingDhol_g11_c05.avi\n",
      "v_PlayingDhol_g11_c06.avi\n",
      "v_PlayingDhol_g11_c07.avi\n",
      "v_PlayingDhol_g12_c01.avi\n",
      "v_PlayingDhol_g12_c02.avi\n",
      "v_PlayingDhol_g12_c03.avi\n",
      "v_PlayingDhol_g12_c04.avi\n",
      "v_PlayingDhol_g12_c05.avi\n",
      "v_PlayingDhol_g12_c06.avi\n",
      "v_PlayingDhol_g13_c01.avi\n",
      "v_PlayingDhol_g13_c02.avi\n",
      "v_PlayingDhol_g13_c03.avi\n",
      "v_PlayingDhol_g13_c04.avi\n",
      "v_PlayingDhol_g13_c05.avi\n",
      "v_PlayingDhol_g13_c06.avi\n",
      "v_PlayingDhol_g13_c07.avi\n"
     ]
    },
    {
     "name": "stderr",
     "output_type": "stream",
     "text": [
      "\r",
      " 54%|██████████████████████████████████████████▋                                    | 632/1171 [00:08<00:10, 52.70it/s]"
     ]
    },
    {
     "name": "stdout",
     "output_type": "stream",
     "text": [
      "v_PlayingDhol_g14_c01.avi\n",
      "v_PlayingDhol_g14_c02.avi\n",
      "v_PlayingDhol_g14_c03.avi\n",
      "v_PlayingDhol_g14_c04.avi\n",
      "v_PlayingDhol_g14_c05.avi\n",
      "v_PlayingDhol_g14_c06.avi\n",
      "v_PlayingDhol_g14_c07.avi\n",
      "v_PlayingDhol_g15_c01.avi\n",
      "v_PlayingDhol_g15_c02.avi\n",
      "v_PlayingDhol_g15_c03.avi\n",
      "v_PlayingDhol_g15_c04.avi\n",
      "v_PlayingDhol_g16_c01.avi\n",
      "v_PlayingDhol_g16_c02.avi\n",
      "v_PlayingDhol_g16_c03.avi\n",
      "v_PlayingDhol_g16_c04.avi\n",
      "v_PlayingDhol_g16_c05.avi\n",
      "v_PlayingDhol_g16_c06.avi\n",
      "v_PlayingDhol_g17_c01.avi\n",
      "v_PlayingDhol_g17_c02.avi\n"
     ]
    },
    {
     "name": "stderr",
     "output_type": "stream",
     "text": [
      " 56%|███████████████████████████████████████████▊                                   | 650/1171 [00:08<00:11, 44.22it/s]"
     ]
    },
    {
     "name": "stdout",
     "output_type": "stream",
     "text": [
      "v_PlayingDhol_g17_c03.avi\n",
      "v_PlayingDhol_g17_c04.avi\n",
      "v_PlayingDhol_g17_c05.avi\n",
      "v_PlayingDhol_g17_c06.avi\n",
      "v_PlayingDhol_g17_c07.avi\n",
      "v_PlayingDhol_g18_c01.avi\n",
      "v_PlayingDhol_g18_c02.avi\n",
      "v_PlayingDhol_g18_c03.avi\n",
      "v_PlayingDhol_g18_c04.avi\n",
      "v_PlayingDhol_g18_c05.avi\n",
      "v_PlayingDhol_g18_c06.avi\n",
      "v_PlayingDhol_g19_c01.avi\n",
      "v_PlayingDhol_g19_c02.avi\n",
      "v_PlayingDhol_g19_c03.avi\n",
      "v_PlayingDhol_g19_c04.avi"
     ]
    },
    {
     "name": "stderr",
     "output_type": "stream",
     "text": [
      " 57%|█████████████████████████████████████████████                                  | 668/1171 [00:09<00:08, 58.50it/s]"
     ]
    },
    {
     "name": "stdout",
     "output_type": "stream",
     "text": [
      "\n",
      "v_PlayingDhol_g19_c05.avi\n",
      "v_PlayingDhol_g19_c06.avi\n",
      "v_PlayingDhol_g19_c07.avi\n",
      "v_PlayingDhol_g20_c01.avi\n",
      "v_PlayingDhol_g20_c02.avi\n",
      "v_PlayingDhol_g20_c03.avi\n",
      "v_PlayingDhol_g20_c04.avi\n",
      "v_PlayingDhol_g21_c01.avi\n",
      "v_PlayingDhol_g21_c02.avi\n",
      "v_PlayingDhol_g21_c03.avi\n",
      "v_PlayingDhol_g21_c04.avi\n",
      "v_PlayingDhol_g21_c05.avi\n",
      "v_PlayingDhol_g21_c06.avi\n",
      "v_PlayingDhol_g21_c07.avi"
     ]
    },
    {
     "name": "stderr",
     "output_type": "stream",
     "text": [
      " 58%|██████████████████████████████████████████████▏                                | 685/1171 [00:09<00:07, 67.04it/s]"
     ]
    },
    {
     "name": "stdout",
     "output_type": "stream",
     "text": [
      "\n",
      "v_PlayingDhol_g22_c01.avi\n",
      "v_PlayingDhol_g22_c02.avi\n",
      "v_PlayingDhol_g22_c03.avi\n",
      "v_PlayingDhol_g22_c04.avi\n",
      "v_PlayingDhol_g22_c05.avi\n",
      "v_PlayingDhol_g22_c06.avi\n",
      "v_PlayingDhol_g22_c07.avi\n",
      "v_PlayingDhol_g23_c01.avi\n",
      "v_PlayingDhol_g23_c02.avi\n",
      "v_PlayingDhol_g23_c03.avi\n",
      "v_PlayingDhol_g23_c04.avi\n",
      "v_PlayingDhol_g23_c05.avi\n",
      "v_PlayingDhol_g23_c06.avi\n",
      "v_PlayingDhol_g23_c07.avi\n"
     ]
    },
    {
     "name": "stderr",
     "output_type": "stream",
     "text": [
      "\r",
      " 59%|██████████████████████████████████████████████▊                                | 693/1171 [00:09<00:06, 69.29it/s]"
     ]
    },
    {
     "name": "stdout",
     "output_type": "stream",
     "text": [
      "v_PlayingDhol_g24_c01.avi\n",
      "v_PlayingDhol_g24_c02.avi\n",
      "v_PlayingDhol_g24_c03.avi\n",
      "v_PlayingDhol_g24_c04.avi\n",
      "v_PlayingDhol_g24_c05.avi\n",
      "v_PlayingDhol_g25_c01.avi\n",
      "v_PlayingDhol_g25_c02.avi\n",
      "v_PlayingDhol_g25_c03.avi\n",
      "v_PlayingDhol_g25_c04.avi\n",
      "v_PlayingDhol_g25_c05.avi\n",
      "v_PlayingDhol_g25_c06.avi\n",
      "v_PlayingDhol_g25_c07.avi\n",
      "v_PlayingGuitar_g08_c01.avi\n"
     ]
    },
    {
     "name": "stderr",
     "output_type": "stream",
     "text": [
      "\r",
      " 60%|███████████████████████████████████████████████▎                               | 701/1171 [00:09<00:07, 63.77it/s]"
     ]
    },
    {
     "name": "stdout",
     "output_type": "stream",
     "text": [
      "v_PlayingGuitar_g08_c02.avi\n",
      "v_PlayingGuitar_g08_c03.avi\n",
      "v_PlayingGuitar_g08_c04.avi\n",
      "v_PlayingGuitar_g08_c05.avi\n",
      "v_PlayingGuitar_g08_c06.avi\n",
      "v_PlayingGuitar_g08_c07.avi\n",
      "v_PlayingGuitar_g09_c01.avi\n",
      "v_PlayingGuitar_g09_c02.avi\n"
     ]
    },
    {
     "name": "stderr",
     "output_type": "stream",
     "text": [
      " 62%|████████████████████████████████████████████████▉                              | 725/1171 [00:10<00:06, 71.04it/s]"
     ]
    },
    {
     "name": "stdout",
     "output_type": "stream",
     "text": [
      "v_PlayingGuitar_g09_c03.avi\n",
      "v_PlayingGuitar_g09_c04.avi\n",
      "v_PlayingGuitar_g10_c01.avi\n",
      "v_PlayingGuitar_g10_c02.avi\n",
      "v_PlayingGuitar_g10_c03.avi\n",
      "v_PlayingGuitar_g10_c04.avi\n",
      "v_PlayingGuitar_g10_c05.avi\n",
      "v_PlayingGuitar_g10_c06.avi\n",
      "v_PlayingGuitar_g10_c07.avi\n",
      "v_PlayingGuitar_g11_c01.avi\n",
      "v_PlayingGuitar_g11_c02.avi\n",
      "v_PlayingGuitar_g11_c03.avi\n",
      "v_PlayingGuitar_g11_c04.avi\n",
      "v_PlayingGuitar_g11_c05.avi\n",
      "v_PlayingGuitar_g11_c06.avi\n",
      "v_PlayingGuitar_g11_c07.avi\n",
      "v_PlayingGuitar_g12_c01.avi\n",
      "v_PlayingGuitar_g12_c02.avi\n",
      "v_PlayingGuitar_g12_c03.avi\n",
      "v_PlayingGuitar_g12_c04.avi\n",
      "v_PlayingGuitar_g12_c05.avi\n",
      "v_PlayingGuitar_g12_c06.avi\n",
      "v_PlayingGuitar_g12_c07.avi\n",
      "v_PlayingGuitar_g13_c01.avi\n",
      "v_PlayingGuitar_g13_c02.avi\n",
      "v_PlayingGuitar_g13_c03.avi\n",
      "v_PlayingGuitar_g13_c04.avi\n",
      "v_PlayingGuitar_g13_c05.avi\n",
      "v_PlayingGuitar_g13_c06.avi\n",
      "v_PlayingGuitar_g13_c07.avi\n",
      "v_PlayingGuitar_g14_c01.avi\n"
     ]
    },
    {
     "name": "stderr",
     "output_type": "stream",
     "text": [
      " 64%|██████████████████████████████████████████████████▋                            | 752/1171 [00:10<00:04, 90.44it/s]"
     ]
    },
    {
     "name": "stdout",
     "output_type": "stream",
     "text": [
      "v_PlayingGuitar_g14_c02.avi\n",
      "v_PlayingGuitar_g14_c03.avi\n",
      "v_PlayingGuitar_g14_c04.avi\n",
      "v_PlayingGuitar_g14_c05.avi\n",
      "v_PlayingGuitar_g14_c06.avi\n",
      "v_PlayingGuitar_g14_c07.avi\n",
      "v_PlayingGuitar_g15_c01.avi\n",
      "v_PlayingGuitar_g15_c02.avi\n",
      "v_PlayingGuitar_g15_c03.avi\n",
      "v_PlayingGuitar_g15_c04.avi\n",
      "v_PlayingGuitar_g15_c05.avi\n",
      "v_PlayingGuitar_g15_c06.avi\n",
      "v_PlayingGuitar_g15_c07.avi\n",
      "v_PlayingGuitar_g16_c01.avi\n",
      "v_PlayingGuitar_g16_c02.avi\n",
      "v_PlayingGuitar_g16_c03.avi\n",
      "v_PlayingGuitar_g16_c04.avi\n",
      "v_PlayingGuitar_g16_c05.avi\n",
      "v_PlayingGuitar_g16_c06.avi"
     ]
    },
    {
     "name": "stderr",
     "output_type": "stream",
     "text": [
      " 67%|███████████████████████████████████████████████████▉                          | 779/1171 [00:10<00:03, 107.18it/s]"
     ]
    },
    {
     "name": "stdout",
     "output_type": "stream",
     "text": [
      "\n",
      "v_PlayingGuitar_g16_c07.avi\n",
      "v_PlayingGuitar_g17_c01.avi\n",
      "v_PlayingGuitar_g17_c02.avi\n",
      "v_PlayingGuitar_g17_c03.avi\n",
      "v_PlayingGuitar_g17_c04.avi\n",
      "v_PlayingGuitar_g17_c05.avi\n",
      "v_PlayingGuitar_g17_c06.avi\n",
      "v_PlayingGuitar_g17_c07.avi\n",
      "v_PlayingGuitar_g18_c01.avi\n",
      "v_PlayingGuitar_g18_c02.avi\n",
      "v_PlayingGuitar_g18_c03.avi\n",
      "v_PlayingGuitar_g18_c04.avi\n",
      "v_PlayingGuitar_g18_c05.avi\n",
      "v_PlayingGuitar_g18_c06.avi\n",
      "v_PlayingGuitar_g18_c07.avi\n",
      "v_PlayingGuitar_g19_c01.avi\n",
      "v_PlayingGuitar_g19_c02.avi\n",
      "v_PlayingGuitar_g19_c03.avi\n",
      "v_PlayingGuitar_g19_c04.avi\n",
      "v_PlayingGuitar_g19_c05.avi\n",
      "v_PlayingGuitar_g19_c06.avi\n",
      "v_PlayingGuitar_g19_c07.avi\n",
      "v_PlayingGuitar_g20_c01.avi\n"
     ]
    },
    {
     "name": "stderr",
     "output_type": "stream",
     "text": [
      "\r",
      " 68%|████████████████████████████████████████████████████▋                         | 791/1171 [00:10<00:03, 107.47it/s]"
     ]
    },
    {
     "name": "stdout",
     "output_type": "stream",
     "text": [
      "v_PlayingGuitar_g20_c02.avi\n",
      "v_PlayingGuitar_g20_c03.avi\n",
      "v_PlayingGuitar_g20_c04.avi\n",
      "v_PlayingGuitar_g20_c05.avi\n",
      "v_PlayingGuitar_g20_c06.avi\n",
      "v_PlayingGuitar_g20_c07.avi\n",
      "v_PlayingGuitar_g21_c01.avi\n",
      "v_PlayingGuitar_g21_c02.avi\n",
      "v_PlayingGuitar_g21_c03.avi\n",
      "v_PlayingGuitar_g21_c04.avi\n",
      "v_PlayingGuitar_g21_c05.avi\n",
      "v_PlayingGuitar_g21_c06.avi\n",
      "v_PlayingGuitar_g22_c01.avi\n",
      "v_PlayingGuitar_g22_c02.avi\n",
      "v_PlayingGuitar_g22_c03.avi\n",
      "v_PlayingGuitar_g22_c04.avi\n",
      "v_PlayingGuitar_g22_c05.avi\n",
      "v_PlayingGuitar_g23_c01.avi\n",
      "v_PlayingGuitar_g23_c02.avi\n",
      "v_PlayingGuitar_g23_c03.avi\n",
      "v_PlayingGuitar_g23_c04.avi\n",
      "v_PlayingGuitar_g23_c05.avi\n"
     ]
    },
    {
     "name": "stderr",
     "output_type": "stream",
     "text": [
      " 70%|██████████████████████████████████████████████████████▎                       | 816/1171 [00:10<00:03, 102.18it/s]"
     ]
    },
    {
     "name": "stdout",
     "output_type": "stream",
     "text": [
      "v_PlayingGuitar_g23_c06.avi\n",
      "v_PlayingGuitar_g23_c07.avi\n",
      "v_PlayingGuitar_g24_c01.avi\n",
      "v_PlayingGuitar_g24_c02.avi\n",
      "v_PlayingGuitar_g24_c03.avi\n",
      "v_PlayingGuitar_g24_c04.avi\n",
      "v_PlayingGuitar_g25_c01.avi\n",
      "v_PlayingGuitar_g25_c02.avi\n",
      "v_PlayingGuitar_g25_c03.avi\n",
      "v_PlayingGuitar_g25_c04.avi\n",
      "v_PlayingGuitar_g25_c05.avi\n",
      "v_PlayingGuitar_g25_c06.avi\n",
      "v_PlayingGuitar_g25_c07.avi\n",
      "v_Punch_g08_c01.avi\n",
      "v_Punch_g08_c02.avi\n",
      "v_Punch_g08_c03.avi\n",
      "v_Punch_g08_c04.avi\n",
      "v_Punch_g08_c05.avi\n"
     ]
    },
    {
     "name": "stderr",
     "output_type": "stream",
     "text": [
      "\r",
      " 71%|███████████████████████████████████████████████████████                       | 827/1171 [00:10<00:03, 102.98it/s]"
     ]
    },
    {
     "name": "stdout",
     "output_type": "stream",
     "text": [
      "v_Punch_g08_c06.avi\n",
      "v_Punch_g08_c07.avi\n",
      "v_Punch_g09_c01.avi\n",
      "v_Punch_g09_c02.avi\n",
      "v_Punch_g09_c03.avi\n",
      "v_Punch_g09_c04.avi\n",
      "v_Punch_g09_c05.avi\n",
      "v_Punch_g09_c06.avi\n",
      "v_Punch_g09_c07.avi\n",
      "v_Punch_g10_c01.avi\n",
      "v_Punch_g10_c02.avi\n",
      "v_Punch_g10_c03.avi\n",
      "v_Punch_g10_c04.avi\n",
      "v_Punch_g10_c05.avi\n",
      "v_Punch_g10_c06.avi\n",
      "v_Punch_g11_c01.avi\n"
     ]
    },
    {
     "name": "stderr",
     "output_type": "stream",
     "text": [
      " 72%|█████████████████████████████████████████████████████████▏                     | 847/1171 [00:11<00:05, 62.69it/s]"
     ]
    },
    {
     "name": "stdout",
     "output_type": "stream",
     "text": [
      "v_Punch_g11_c02.avi\n",
      "v_Punch_g11_c03.avi\n",
      "v_Punch_g11_c04.avi\n",
      "v_Punch_g11_c05.avi\n",
      "v_Punch_g11_c06.avi\n",
      "v_Punch_g11_c07.avi\n",
      "v_Punch_g12_c01.avi\n",
      "v_Punch_g12_c02.avi\n",
      "v_Punch_g12_c03.avi\n",
      "v_Punch_g12_c04.avi\n",
      "v_Punch_g12_c05.avi\n",
      "v_Punch_g12_c06.avi\n",
      "v_Punch_g12_c07.avi\n",
      "v_Punch_g13_c01.avi\n",
      "v_Punch_g13_c02.avi\n",
      "v_Punch_g13_c03.avi\n",
      "v_Punch_g13_c04.avi\n",
      "v_Punch_g13_c05.avi\n",
      "v_Punch_g13_c06.avi\n",
      "v_Punch_g13_c07.avi\n",
      "v_Punch_g14_c01.avi\n"
     ]
    },
    {
     "name": "stderr",
     "output_type": "stream",
     "text": [
      "\r",
      " 74%|██████████████████████████████████████████████████████████▏                    | 862/1171 [00:11<00:03, 78.98it/s]"
     ]
    },
    {
     "name": "stdout",
     "output_type": "stream",
     "text": [
      "v_Punch_g14_c02.avi\n",
      "v_Punch_g14_c03.avi\n",
      "v_Punch_g14_c04.avi\n",
      "v_Punch_g14_c05.avi\n",
      "v_Punch_g14_c06.avi\n",
      "v_Punch_g14_c07.avi\n",
      "v_Punch_g15_c01.avi\n",
      "v_Punch_g15_c02.avi\n",
      "v_Punch_g15_c03.avi\n",
      "v_Punch_g15_c04.avi\n",
      "v_Punch_g15_c05.avi\n",
      "v_Punch_g15_c06.avi\n",
      "v_Punch_g16_c01.avi\n",
      "v_Punch_g16_c02.avi\n",
      "v_Punch_g16_c03.avi\n",
      "v_Punch_g16_c04.avi\n"
     ]
    },
    {
     "name": "stderr",
     "output_type": "stream",
     "text": [
      " 76%|███████████████████████████████████████████████████████████▋                   | 885/1171 [00:11<00:03, 85.37it/s]"
     ]
    },
    {
     "name": "stdout",
     "output_type": "stream",
     "text": [
      "v_Punch_g16_c05.avi\n",
      "v_Punch_g16_c06.avi\n",
      "v_Punch_g16_c07.avi\n",
      "v_Punch_g17_c01.avi\n",
      "v_Punch_g17_c02.avi\n",
      "v_Punch_g17_c03.avi\n",
      "v_Punch_g17_c04.avi\n",
      "v_Punch_g17_c05.avi\n",
      "v_Punch_g17_c06.avi\n",
      "v_Punch_g17_c07.avi\n",
      "v_Punch_g18_c01.avi\n",
      "v_Punch_g18_c02.avi\n",
      "v_Punch_g18_c03.avi\n",
      "v_Punch_g18_c04.avi\n",
      "v_Punch_g18_c05.avi\n",
      "v_Punch_g18_c06.avi\n",
      "v_Punch_g18_c07.avi\n",
      "v_Punch_g19_c01.avi\n",
      "v_Punch_g19_c02.avi\n",
      "v_Punch_g19_c03.avi\n",
      "v_Punch_g19_c04.avi\n",
      "v_Punch_g19_c05.avi\n",
      "v_Punch_g19_c06.avi"
     ]
    },
    {
     "name": "stderr",
     "output_type": "stream",
     "text": [
      " 78%|████████████████████████████████████████████████████████████▋                 | 912/1171 [00:11<00:02, 105.68it/s]"
     ]
    },
    {
     "name": "stdout",
     "output_type": "stream",
     "text": [
      "\n",
      "v_Punch_g19_c07.avi\n",
      "v_Punch_g20_c01.avi\n",
      "v_Punch_g20_c02.avi\n",
      "v_Punch_g20_c03.avi\n",
      "v_Punch_g20_c04.avi\n",
      "v_Punch_g21_c01.avi\n",
      "v_Punch_g21_c02.avi\n",
      "v_Punch_g21_c03.avi\n",
      "v_Punch_g21_c04.avi\n",
      "v_Punch_g21_c05.avi\n",
      "v_Punch_g21_c06.avi\n",
      "v_Punch_g21_c07.avi\n",
      "v_Punch_g22_c01.avi\n",
      "v_Punch_g22_c02.avi\n",
      "v_Punch_g22_c03.avi\n",
      "v_Punch_g22_c04.avi\n",
      "v_Punch_g22_c05.avi\n",
      "v_Punch_g22_c06.avi\n",
      "v_Punch_g22_c07.avi\n",
      "v_Punch_g23_c01.avi\n",
      "v_Punch_g23_c02.avi\n",
      "v_Punch_g23_c03.avi\n",
      "v_Punch_g23_c04.avi\n",
      "v_Punch_g23_c05.avi\n"
     ]
    },
    {
     "name": "stderr",
     "output_type": "stream",
     "text": [
      " 80%|██████████████████████████████████████████████████████████████▌               | 939/1171 [00:12<00:02, 108.46it/s]"
     ]
    },
    {
     "name": "stdout",
     "output_type": "stream",
     "text": [
      "v_Punch_g23_c06.avi\n",
      "v_Punch_g23_c07.avi\n",
      "v_Punch_g24_c01.avi\n",
      "v_Punch_g24_c02.avi\n",
      "v_Punch_g24_c03.avi\n",
      "v_Punch_g24_c04.avi\n",
      "v_Punch_g24_c05.avi\n",
      "v_Punch_g24_c06.avi\n",
      "v_Punch_g24_c07.avi\n",
      "v_Punch_g25_c01.avi\n",
      "v_Punch_g25_c02.avi\n",
      "v_Punch_g25_c03.avi\n",
      "v_Punch_g25_c04.avi\n",
      "v_Punch_g25_c05.avi\n",
      "v_Punch_g25_c06.avi\n",
      "v_Punch_g25_c07.avi\n",
      "v_ShavingBeard_g08_c01.avi\n",
      "v_ShavingBeard_g08_c02.avi\n",
      "v_ShavingBeard_g08_c03.avi\n",
      "v_ShavingBeard_g08_c04.avi\n",
      "v_ShavingBeard_g08_c05.avi"
     ]
    },
    {
     "name": "stderr",
     "output_type": "stream",
     "text": [
      "\r",
      " 81%|███████████████████████████████████████████████████████████████▍              | 952/1171 [00:12<00:01, 111.35it/s]"
     ]
    },
    {
     "name": "stdout",
     "output_type": "stream",
     "text": [
      "\n",
      "v_ShavingBeard_g08_c06.avi\n",
      "v_ShavingBeard_g08_c07.avi\n",
      "v_ShavingBeard_g09_c01.avi\n",
      "v_ShavingBeard_g09_c02.avi\n",
      "v_ShavingBeard_g09_c03.avi\n",
      "v_ShavingBeard_g09_c04.avi\n",
      "v_ShavingBeard_g09_c05.avi\n",
      "v_ShavingBeard_g09_c06.avi\n",
      "v_ShavingBeard_g09_c07.avi\n",
      "v_ShavingBeard_g10_c01.avi\n",
      "v_ShavingBeard_g10_c02.avi\n",
      "v_ShavingBeard_g10_c03.avi\n",
      "v_ShavingBeard_g10_c04.avi\n",
      "v_ShavingBeard_g10_c05.avi\n",
      "v_ShavingBeard_g10_c06.avi\n",
      "v_ShavingBeard_g10_c07.avi\n",
      "v_ShavingBeard_g11_c01.avi\n",
      "v_ShavingBeard_g11_c02.avi\n"
     ]
    },
    {
     "name": "stderr",
     "output_type": "stream",
     "text": [
      "\r",
      " 82%|█████████████████████████████████████████████████████████████████              | 964/1171 [00:12<00:02, 90.26it/s]"
     ]
    },
    {
     "name": "stdout",
     "output_type": "stream",
     "text": [
      "v_ShavingBeard_g11_c03.avi\n",
      "v_ShavingBeard_g11_c04.avi\n",
      "v_ShavingBeard_g12_c01.avi\n",
      "v_ShavingBeard_g12_c02.avi\n",
      "v_ShavingBeard_g12_c03.avi\n",
      "v_ShavingBeard_g12_c04.avi\n",
      "v_ShavingBeard_g12_c05.avi\n",
      "v_ShavingBeard_g12_c06.avi\n",
      "v_ShavingBeard_g13_c01.avi\n",
      "v_ShavingBeard_g13_c02.avi\n",
      "v_ShavingBeard_g13_c03.avi\n",
      "v_ShavingBeard_g13_c04.avi\n",
      "v_ShavingBeard_g13_c05.avi\n"
     ]
    },
    {
     "name": "stderr",
     "output_type": "stream",
     "text": [
      "\r",
      " 83%|█████████████████████████████████████████████████████████████████▋             | 974/1171 [00:13<00:07, 26.24it/s]"
     ]
    },
    {
     "name": "stdout",
     "output_type": "stream",
     "text": [
      "v_ShavingBeard_g13_c06.avi\n",
      "v_ShavingBeard_g14_c01.avi\n",
      "v_ShavingBeard_g14_c02.avi\n",
      "v_ShavingBeard_g14_c03.avi\n",
      "v_ShavingBeard_g14_c04.avi\n",
      "v_ShavingBeard_g14_c05.avi\n",
      "v_ShavingBeard_g14_c06.avi\n",
      "v_ShavingBeard_g15_c01.avi\n"
     ]
    },
    {
     "name": "stderr",
     "output_type": "stream",
     "text": [
      "\r",
      " 84%|██████████████████████████████████████████████████████████████████▏            | 982/1171 [00:14<00:11, 16.63it/s]"
     ]
    },
    {
     "name": "stdout",
     "output_type": "stream",
     "text": [
      "v_ShavingBeard_g15_c02.avi\n",
      "v_ShavingBeard_g15_c03.avi\n",
      "v_ShavingBeard_g15_c04.avi\n",
      "v_ShavingBeard_g15_c05.avi\n",
      "v_ShavingBeard_g15_c06.avi\n",
      "v_ShavingBeard_g15_c07.avi\n",
      "v_ShavingBeard_g16_c01.avi\n",
      "v_ShavingBeard_g16_c02.avi\n"
     ]
    },
    {
     "name": "stderr",
     "output_type": "stream",
     "text": [
      "\r",
      " 84%|██████████████████████████████████████████████████████████████████▋            | 988/1171 [00:15<00:10, 17.24it/s]"
     ]
    },
    {
     "name": "stdout",
     "output_type": "stream",
     "text": [
      "v_ShavingBeard_g16_c03.avi\n",
      "v_ShavingBeard_g16_c04.avi\n",
      "v_ShavingBeard_g16_c05.avi\n",
      "v_ShavingBeard_g16_c06.avi\n"
     ]
    },
    {
     "name": "stderr",
     "output_type": "stream",
     "text": [
      "\r",
      " 85%|██████████████████████████████████████████████████████████████████▉            | 993/1171 [00:15<00:10, 17.40it/s]"
     ]
    },
    {
     "name": "stdout",
     "output_type": "stream",
     "text": [
      "v_ShavingBeard_g17_c01.avi\n",
      "v_ShavingBeard_g17_c02.avi\n"
     ]
    },
    {
     "name": "stderr",
     "output_type": "stream",
     "text": [
      "\r",
      " 85%|███████████████████████████████████████████████████████████████████▎           | 997/1171 [00:15<00:10, 16.58it/s]"
     ]
    },
    {
     "name": "stdout",
     "output_type": "stream",
     "text": [
      "v_ShavingBeard_g17_c03.avi\n",
      "v_ShavingBeard_g17_c04.avi\n",
      "v_ShavingBeard_g17_c05.avi\n",
      "v_ShavingBeard_g17_c06.avi\n",
      "v_ShavingBeard_g17_c07.avi\n",
      "v_ShavingBeard_g18_c01.avi\n",
      "v_ShavingBeard_g18_c02.avi\n",
      "v_ShavingBeard_g18_c03.avi\n"
     ]
    },
    {
     "name": "stderr",
     "output_type": "stream",
     "text": [
      " 87%|███████████████████████████████████████████████████████████████████▉          | 1019/1171 [00:15<00:04, 36.60it/s]"
     ]
    },
    {
     "name": "stdout",
     "output_type": "stream",
     "text": [
      "v_ShavingBeard_g18_c04.avi\n",
      "v_ShavingBeard_g18_c05.avi\n",
      "v_ShavingBeard_g18_c06.avi\n",
      "v_ShavingBeard_g18_c07.avi\n",
      "v_ShavingBeard_g19_c01.avi\n",
      "v_ShavingBeard_g19_c02.avi\n",
      "v_ShavingBeard_g19_c03.avi\n",
      "v_ShavingBeard_g19_c04.avi\n",
      "v_ShavingBeard_g19_c05.avi\n",
      "v_ShavingBeard_g19_c06.avi\n",
      "v_ShavingBeard_g19_c07.avi\n",
      "v_ShavingBeard_g20_c01.avi\n",
      "v_ShavingBeard_g20_c02.avi\n",
      "v_ShavingBeard_g20_c03.avi\n",
      "v_ShavingBeard_g20_c04.avi\n",
      "v_ShavingBeard_g20_c05.avi\n",
      "v_ShavingBeard_g20_c06.avi\n",
      "v_ShavingBeard_g20_c07.avi\n",
      "v_ShavingBeard_g21_c01.avi\n",
      "v_ShavingBeard_g21_c02.avi\n",
      "v_ShavingBeard_g21_c03.avi\n",
      "v_ShavingBeard_g21_c04.avi\n",
      "v_ShavingBeard_g21_c05.avi\n",
      "v_ShavingBeard_g21_c06.avi\n",
      "v_ShavingBeard_g21_c07.avi\n",
      "v_ShavingBeard_g22_c01.avi\n",
      "v_ShavingBeard_g22_c02.avi\n",
      "v_ShavingBeard_g22_c03.avi\n",
      "v_ShavingBeard_g22_c04.avi\n",
      "v_ShavingBeard_g22_c05.avi\n",
      "v_ShavingBeard_g22_c06.avi\n",
      "v_ShavingBeard_g22_c07.avi\n",
      "v_ShavingBeard_g23_c01.avi\n",
      "v_ShavingBeard_g23_c02.avi\n",
      "v_ShavingBeard_g23_c03.avi\n",
      "v_ShavingBeard_g23_c04.avi\n",
      "v_ShavingBeard_g23_c05.avi\n"
     ]
    },
    {
     "name": "stderr",
     "output_type": "stream",
     "text": [
      "\r",
      " 89%|█████████████████████████████████████████████████████████████████████▌        | 1044/1171 [00:15<00:01, 67.26it/s]"
     ]
    },
    {
     "name": "stdout",
     "output_type": "stream",
     "text": [
      "v_ShavingBeard_g23_c06.avi\n",
      "v_ShavingBeard_g23_c07.avi\n",
      "v_ShavingBeard_g24_c01.avi\n",
      "v_ShavingBeard_g24_c02.avi\n",
      "v_ShavingBeard_g24_c03.avi\n",
      "v_ShavingBeard_g24_c04.avi\n",
      "v_ShavingBeard_g24_c05.avi\n",
      "v_ShavingBeard_g24_c06.avi\n",
      "v_ShavingBeard_g24_c07.avi\n",
      "v_ShavingBeard_g25_c01.avi\n",
      "v_ShavingBeard_g25_c02.avi\n",
      "v_ShavingBeard_g25_c03.avi\n",
      "v_ShavingBeard_g25_c04.avi\n",
      "v_ShavingBeard_g25_c05.avi\n",
      "v_ShavingBeard_g25_c06.avi\n",
      "v_TennisSwing_g08_c01.avi\n",
      "v_TennisSwing_g08_c02.avi"
     ]
    },
    {
     "name": "stderr",
     "output_type": "stream",
     "text": [
      " 92%|███████████████████████████████████████████████████████████████████████▍      | 1072/1171 [00:16<00:01, 83.56it/s]"
     ]
    },
    {
     "name": "stdout",
     "output_type": "stream",
     "text": [
      "\n",
      "v_TennisSwing_g08_c03.avi\n",
      "v_TennisSwing_g08_c04.avi\n",
      "v_TennisSwing_g08_c05.avi\n",
      "v_TennisSwing_g08_c06.avi\n",
      "v_TennisSwing_g09_c01.avi\n",
      "v_TennisSwing_g09_c02.avi\n",
      "v_TennisSwing_g09_c03.avi\n",
      "v_TennisSwing_g09_c04.avi\n",
      "v_TennisSwing_g09_c05.avi\n",
      "v_TennisSwing_g09_c06.avi\n",
      "v_TennisSwing_g09_c07.avi\n",
      "v_TennisSwing_g10_c01.avi\n",
      "v_TennisSwing_g10_c02.avi\n",
      "v_TennisSwing_g10_c03.avi\n",
      "v_TennisSwing_g10_c04.avi\n",
      "v_TennisSwing_g10_c05.avi\n",
      "v_TennisSwing_g10_c06.avi\n",
      "v_TennisSwing_g10_c07.avi\n",
      "v_TennisSwing_g11_c01.avi\n",
      "v_TennisSwing_g11_c02.avi\n",
      "v_TennisSwing_g11_c03.avi\n",
      "v_TennisSwing_g11_c04.avi\n",
      "v_TennisSwing_g11_c05.avi\n",
      "v_TennisSwing_g11_c06.avi\n",
      "v_TennisSwing_g11_c07.avi\n",
      "v_TennisSwing_g12_c01.avi\n"
     ]
    },
    {
     "name": "stderr",
     "output_type": "stream",
     "text": [
      " 94%|█████████████████████████████████████████████████████████████████████████     | 1097/1171 [00:16<00:00, 95.58it/s]"
     ]
    },
    {
     "name": "stdout",
     "output_type": "stream",
     "text": [
      "v_TennisSwing_g12_c02.avi\n",
      "v_TennisSwing_g12_c03.avi\n",
      "v_TennisSwing_g12_c04.avi\n",
      "v_TennisSwing_g12_c05.avi\n",
      "v_TennisSwing_g12_c06.avi\n",
      "v_TennisSwing_g12_c07.avi\n",
      "v_TennisSwing_g13_c01.avi\n",
      "v_TennisSwing_g13_c02.avi\n",
      "v_TennisSwing_g13_c03.avi\n",
      "v_TennisSwing_g13_c04.avi\n",
      "v_TennisSwing_g13_c05.avi\n",
      "v_TennisSwing_g13_c06.avi\n",
      "v_TennisSwing_g13_c07.avi\n",
      "v_TennisSwing_g14_c01.avi\n",
      "v_TennisSwing_g14_c02.avi\n",
      "v_TennisSwing_g14_c03.avi\n",
      "v_TennisSwing_g14_c04.avi\n",
      "v_TennisSwing_g14_c05.avi\n",
      "v_TennisSwing_g14_c06.avi\n",
      "v_TennisSwing_g14_c07.avi\n",
      "v_TennisSwing_g15_c01.avi\n",
      "v_TennisSwing_g15_c02.avi\n",
      "v_TennisSwing_g15_c03.avi\n",
      "v_TennisSwing_g15_c04.avi"
     ]
    },
    {
     "name": "stderr",
     "output_type": "stream",
     "text": [
      " 96%|█████████████████████████████████████████████████████████████████████████▉   | 1125/1171 [00:16<00:00, 111.86it/s]"
     ]
    },
    {
     "name": "stdout",
     "output_type": "stream",
     "text": [
      "\n",
      "v_TennisSwing_g15_c05.avi\n",
      "v_TennisSwing_g15_c06.avi\n",
      "v_TennisSwing_g15_c07.avi\n",
      "v_TennisSwing_g16_c01.avi\n",
      "v_TennisSwing_g16_c02.avi\n",
      "v_TennisSwing_g16_c03.avi\n",
      "v_TennisSwing_g16_c04.avi\n",
      "v_TennisSwing_g16_c05.avi\n",
      "v_TennisSwing_g16_c06.avi\n",
      "v_TennisSwing_g16_c07.avi\n",
      "v_TennisSwing_g17_c01.avi\n",
      "v_TennisSwing_g17_c02.avi\n",
      "v_TennisSwing_g17_c03.avi\n",
      "v_TennisSwing_g17_c04.avi\n",
      "v_TennisSwing_g17_c05.avi\n",
      "v_TennisSwing_g17_c06.avi\n",
      "v_TennisSwing_g17_c07.avi\n",
      "v_TennisSwing_g18_c01.avi\n",
      "v_TennisSwing_g18_c02.avi\n",
      "v_TennisSwing_g18_c03.avi\n",
      "v_TennisSwing_g18_c04.avi\n",
      "v_TennisSwing_g18_c05.avi\n",
      "v_TennisSwing_g18_c06.avi\n",
      "v_TennisSwing_g19_c01.avi\n",
      "v_TennisSwing_g19_c02.avi"
     ]
    },
    {
     "name": "stderr",
     "output_type": "stream",
     "text": [
      " 98%|███████████████████████████████████████████████████████████████████████████▊ | 1152/1171 [00:16<00:00, 120.76it/s]"
     ]
    },
    {
     "name": "stdout",
     "output_type": "stream",
     "text": [
      "\n",
      "v_TennisSwing_g19_c03.avi\n",
      "v_TennisSwing_g19_c04.avi\n",
      "v_TennisSwing_g19_c05.avi\n",
      "v_TennisSwing_g19_c06.avi\n",
      "v_TennisSwing_g20_c01.avi\n",
      "v_TennisSwing_g20_c02.avi\n",
      "v_TennisSwing_g20_c03.avi\n",
      "v_TennisSwing_g20_c04.avi\n",
      "v_TennisSwing_g20_c05.avi\n",
      "v_TennisSwing_g20_c06.avi\n",
      "v_TennisSwing_g21_c01.avi\n",
      "v_TennisSwing_g21_c02.avi\n",
      "v_TennisSwing_g21_c03.avi\n",
      "v_TennisSwing_g21_c04.avi\n",
      "v_TennisSwing_g21_c05.avi\n",
      "v_TennisSwing_g21_c06.avi\n",
      "v_TennisSwing_g22_c01.avi\n",
      "v_TennisSwing_g22_c02.avi\n",
      "v_TennisSwing_g22_c03.avi\n",
      "v_TennisSwing_g22_c04.avi\n",
      "v_TennisSwing_g22_c05.avi\n",
      "v_TennisSwing_g22_c06.avi\n",
      "v_TennisSwing_g23_c01.avi\n",
      "v_TennisSwing_g23_c02.avi\n",
      "v_TennisSwing_g23_c03.avi\n",
      "v_TennisSwing_g23_c04.avi\n",
      "v_TennisSwing_g23_c05.avi\n",
      "v_TennisSwing_g23_c06.avi\n",
      "v_TennisSwing_g24_c01.avi\n",
      "v_TennisSwing_g24_c02.avi\n",
      "v_TennisSwing_g24_c03.avi\n"
     ]
    },
    {
     "name": "stderr",
     "output_type": "stream",
     "text": [
      "100%|██████████████████████████████████████████████████████████████████████████████| 1171/1171 [00:17<00:00, 68.09it/s]\n",
      "  0%|                                                                                          | 0/459 [00:00<?, ?it/s]"
     ]
    },
    {
     "name": "stdout",
     "output_type": "stream",
     "text": [
      "v_TennisSwing_g24_c04.avi\n",
      "v_TennisSwing_g24_c05.avi\n",
      "v_TennisSwing_g24_c06.avi\n",
      "v_TennisSwing_g25_c01.avi\n",
      "v_TennisSwing_g25_c02.avi\n",
      "v_TennisSwing_g25_c03.avi\n",
      "v_TennisSwing_g25_c04.avi\n",
      "v_TennisSwing_g25_c05.avi\n",
      "v_TennisSwing_g25_c06.avi\n",
      "\n",
      "Total videos: 1171\n",
      "v_BoxingPunchingBag_g01_c01.avi\n",
      "v_BoxingPunchingBag_g01_c02.avi\n",
      "v_BoxingPunchingBag_g01_c03.avi\n",
      "v_BoxingPunchingBag_g01_c04.avi\n",
      "v_BoxingPunchingBag_g01_c05.avi\n"
     ]
    },
    {
     "name": "stderr",
     "output_type": "stream",
     "text": [
      "  4%|███▏                                                                             | 18/459 [00:00<00:04, 88.43it/s]"
     ]
    },
    {
     "name": "stdout",
     "output_type": "stream",
     "text": [
      "v_BoxingPunchingBag_g01_c06.avi\n",
      "v_BoxingPunchingBag_g01_c07.avi\n",
      "v_BoxingPunchingBag_g02_c01.avi\n",
      "v_BoxingPunchingBag_g02_c02.avi\n",
      "v_BoxingPunchingBag_g02_c03.avi\n",
      "v_BoxingPunchingBag_g02_c04.avi\n",
      "v_BoxingPunchingBag_g02_c05.avi\n",
      "v_BoxingPunchingBag_g02_c06.avi\n",
      "v_BoxingPunchingBag_g02_c07.avi\n",
      "v_BoxingPunchingBag_g03_c01.avi\n",
      "v_BoxingPunchingBag_g03_c02.avi\n",
      "v_BoxingPunchingBag_g03_c03.avi\n",
      "v_BoxingPunchingBag_g03_c04.avi\n",
      "v_BoxingPunchingBag_g03_c05.avi\n",
      "v_BoxingPunchingBag_g03_c06.avi\n",
      "v_BoxingPunchingBag_g03_c07.avi\n",
      "v_BoxingPunchingBag_g04_c01.avi\n",
      "v_BoxingPunchingBag_g04_c02.avi\n",
      "v_BoxingPunchingBag_g04_c03.avi\n",
      "v_BoxingPunchingBag_g04_c04.avi\n",
      "v_BoxingPunchingBag_g04_c05.avi\n",
      "v_BoxingPunchingBag_g04_c06.avi\n"
     ]
    },
    {
     "name": "stderr",
     "output_type": "stream",
     "text": [
      "  9%|███████▏                                                                        | 41/459 [00:00<00:03, 105.22it/s]"
     ]
    },
    {
     "name": "stdout",
     "output_type": "stream",
     "text": [
      "v_BoxingPunchingBag_g04_c07.avi\n",
      "v_BoxingPunchingBag_g05_c01.avi\n",
      "v_BoxingPunchingBag_g05_c02.avi\n",
      "v_BoxingPunchingBag_g05_c03.avi\n",
      "v_BoxingPunchingBag_g05_c04.avi\n",
      "v_BoxingPunchingBag_g05_c05.avi\n",
      "v_BoxingPunchingBag_g05_c06.avi\n",
      "v_BoxingPunchingBag_g05_c07.avi\n",
      "v_BoxingPunchingBag_g06_c01.avi\n",
      "v_BoxingPunchingBag_g06_c02.avi\n",
      "v_BoxingPunchingBag_g06_c03.avi\n",
      "v_BoxingPunchingBag_g06_c04.avi\n",
      "v_BoxingPunchingBag_g06_c05.avi\n",
      "v_BoxingPunchingBag_g06_c06.avi\n",
      "v_BoxingPunchingBag_g06_c07.avi\n",
      "v_BoxingPunchingBag_g07_c01.avi\n",
      "v_BoxingPunchingBag_g07_c02.avi\n",
      "v_BoxingPunchingBag_g07_c03.avi\n",
      "v_BoxingPunchingBag_g07_c04.avi"
     ]
    },
    {
     "name": "stderr",
     "output_type": "stream",
     "text": [
      "\r",
      " 11%|█████████▏                                                                       | 52/459 [00:00<00:05, 77.64it/s]"
     ]
    },
    {
     "name": "stdout",
     "output_type": "stream",
     "text": [
      "\n",
      "v_BoxingPunchingBag_g07_c05.avi\n",
      "v_BoxingPunchingBag_g07_c06.avi\n",
      "v_BoxingPunchingBag_g07_c07.avi\n",
      "v_CricketShot_g01_c01.avi\n",
      "v_CricketShot_g01_c02.avi\n",
      "v_CricketShot_g01_c03.avi\n",
      "v_CricketShot_g01_c04.avi\n",
      "v_CricketShot_g01_c05.avi\n",
      "v_CricketShot_g01_c06.avi\n",
      "v_CricketShot_g01_c07.avi\n",
      "v_CricketShot_g02_c01.avi\n",
      "v_CricketShot_g02_c02.avi\n",
      "v_CricketShot_g02_c03.avi\n",
      "v_CricketShot_g02_c04.avi\n"
     ]
    },
    {
     "name": "stderr",
     "output_type": "stream",
     "text": [
      " 17%|█████████████▉                                                                  | 80/459 [00:00<00:03, 104.35it/s]"
     ]
    },
    {
     "name": "stdout",
     "output_type": "stream",
     "text": [
      "v_CricketShot_g02_c05.avi\n",
      "v_CricketShot_g02_c06.avi\n",
      "v_CricketShot_g02_c07.avi\n",
      "v_CricketShot_g03_c01.avi\n",
      "v_CricketShot_g03_c02.avi\n",
      "v_CricketShot_g03_c03.avi\n",
      "v_CricketShot_g03_c04.avi\n",
      "v_CricketShot_g03_c05.avi\n",
      "v_CricketShot_g03_c06.avi\n",
      "v_CricketShot_g03_c07.avi\n",
      "v_CricketShot_g04_c01.avi\n",
      "v_CricketShot_g04_c02.avi\n",
      "v_CricketShot_g04_c03.avi\n",
      "v_CricketShot_g04_c04.avi\n",
      "v_CricketShot_g04_c05.avi\n",
      "v_CricketShot_g04_c06.avi\n",
      "v_CricketShot_g04_c07.avi\n",
      "v_CricketShot_g05_c01.avi\n",
      "v_CricketShot_g05_c02.avi\n",
      "v_CricketShot_g05_c03.avi\n",
      "v_CricketShot_g05_c04.avi\n",
      "v_CricketShot_g05_c05.avi\n",
      "v_CricketShot_g05_c06.avi\n",
      "v_CricketShot_g05_c07.avi\n",
      "v_CricketShot_g06_c01.avi"
     ]
    },
    {
     "name": "stderr",
     "output_type": "stream",
     "text": [
      "\r",
      " 20%|████████████████▏                                                               | 93/459 [00:00<00:03, 109.62it/s]"
     ]
    },
    {
     "name": "stdout",
     "output_type": "stream",
     "text": [
      "\n",
      "v_CricketShot_g06_c02.avi\n",
      "v_CricketShot_g06_c03.avi\n",
      "v_CricketShot_g06_c04.avi\n",
      "v_CricketShot_g06_c05.avi\n",
      "v_CricketShot_g06_c06.avi\n",
      "v_CricketShot_g06_c07.avi\n",
      "v_CricketShot_g07_c01.avi\n",
      "v_CricketShot_g07_c02.avi\n",
      "v_CricketShot_g07_c03.avi\n",
      "v_CricketShot_g07_c04.avi\n",
      "v_CricketShot_g07_c05.avi\n",
      "v_CricketShot_g07_c06.avi\n",
      "v_CricketShot_g07_c07.avi\n",
      "v_Drumming_g01_c01.avi\n",
      "v_Drumming_g01_c02.avi\n",
      "v_Drumming_g01_c03.avi\n"
     ]
    },
    {
     "name": "stderr",
     "output_type": "stream",
     "text": [
      " 25%|████████████████████▍                                                           | 117/459 [00:01<00:03, 94.12it/s]"
     ]
    },
    {
     "name": "stdout",
     "output_type": "stream",
     "text": [
      "v_Drumming_g01_c04.avi\n",
      "v_Drumming_g01_c05.avi\n",
      "v_Drumming_g01_c06.avi\n",
      "v_Drumming_g01_c07.avi\n",
      "v_Drumming_g02_c01.avi\n",
      "v_Drumming_g02_c02.avi\n",
      "v_Drumming_g02_c03.avi\n",
      "v_Drumming_g02_c04.avi\n",
      "v_Drumming_g02_c05.avi\n",
      "v_Drumming_g02_c06.avi\n",
      "v_Drumming_g02_c07.avi\n",
      "v_Drumming_g03_c01.avi\n",
      "v_Drumming_g03_c02.avi\n",
      "v_Drumming_g03_c03.avi\n",
      "v_Drumming_g03_c04.avi\n",
      "v_Drumming_g03_c05.avi\n"
     ]
    },
    {
     "name": "stderr",
     "output_type": "stream",
     "text": [
      "\r",
      " 28%|██████████████████████▍                                                         | 129/459 [00:01<00:03, 97.09it/s]"
     ]
    },
    {
     "name": "stdout",
     "output_type": "stream",
     "text": [
      "v_Drumming_g04_c01.avi\n",
      "v_Drumming_g04_c02.avi\n",
      "v_Drumming_g04_c03.avi\n",
      "v_Drumming_g04_c04.avi\n",
      "v_Drumming_g04_c05.avi\n",
      "v_Drumming_g04_c06.avi\n",
      "v_Drumming_g04_c07.avi\n",
      "v_Drumming_g05_c01.avi\n",
      "v_Drumming_g05_c02.avi\n",
      "v_Drumming_g05_c03.avi\n",
      "v_Drumming_g05_c04.avi\n",
      "v_Drumming_g05_c05.avi\n",
      "v_Drumming_g05_c06.avi\n",
      "v_Drumming_g06_c01.avi\n",
      "v_Drumming_g06_c02.avi\n",
      "v_Drumming_g06_c03.avi\n",
      "v_Drumming_g06_c04.avi\n",
      "v_Drumming_g06_c05.avi\n",
      "v_Drumming_g06_c06.avi\n",
      "v_Drumming_g07_c01.avi\n",
      "v_Drumming_g07_c02.avi\n",
      "v_Drumming_g07_c03.avi"
     ]
    },
    {
     "name": "stderr",
     "output_type": "stream",
     "text": [
      " 33%|██████████████████████████▍                                                     | 152/459 [00:01<00:03, 90.78it/s]"
     ]
    },
    {
     "name": "stdout",
     "output_type": "stream",
     "text": [
      "\n",
      "v_Drumming_g07_c04.avi\n",
      "v_Drumming_g07_c05.avi\n",
      "v_Drumming_g07_c06.avi\n",
      "v_Drumming_g07_c07.avi\n",
      "v_HorseRiding_g01_c01.avi\n",
      "v_HorseRiding_g01_c02.avi\n",
      "v_HorseRiding_g01_c03.avi\n",
      "v_HorseRiding_g01_c04.avi\n",
      "v_HorseRiding_g01_c05.avi\n",
      "v_HorseRiding_g01_c06.avi\n",
      "v_HorseRiding_g01_c07.avi\n",
      "v_HorseRiding_g02_c01.avi\n",
      "v_HorseRiding_g02_c02.avi\n"
     ]
    },
    {
     "name": "stderr",
     "output_type": "stream",
     "text": [
      "\r",
      " 36%|████████████████████████████▌                                                  | 166/459 [00:01<00:02, 101.73it/s]"
     ]
    },
    {
     "name": "stdout",
     "output_type": "stream",
     "text": [
      "v_HorseRiding_g02_c03.avi\n",
      "v_HorseRiding_g02_c04.avi\n",
      "v_HorseRiding_g02_c05.avi\n",
      "v_HorseRiding_g02_c06.avi\n",
      "v_HorseRiding_g02_c07.avi\n",
      "v_HorseRiding_g03_c01.avi\n",
      "v_HorseRiding_g03_c02.avi\n",
      "v_HorseRiding_g03_c03.avi\n",
      "v_HorseRiding_g03_c04.avi\n",
      "v_HorseRiding_g03_c05.avi\n",
      "v_HorseRiding_g03_c06.avi\n",
      "v_HorseRiding_g03_c07.avi\n",
      "v_HorseRiding_g04_c01.avi\n",
      "v_HorseRiding_g04_c02.avi\n",
      "v_HorseRiding_g04_c03.avi\n",
      "v_HorseRiding_g04_c04.avi\n",
      "v_HorseRiding_g04_c05.avi\n",
      "v_HorseRiding_g04_c06.avi\n",
      "v_HorseRiding_g04_c07.avi\n",
      "v_HorseRiding_g05_c01.avi\n",
      "v_HorseRiding_g05_c02.avi\n",
      "v_HorseRiding_g05_c03.avi\n",
      "v_HorseRiding_g05_c04.avi\n",
      "v_HorseRiding_g05_c05.avi\n"
     ]
    },
    {
     "name": "stderr",
     "output_type": "stream",
     "text": [
      "\r",
      " 39%|██████████████████████████████▋                                                | 178/459 [00:01<00:02, 104.55it/s]"
     ]
    },
    {
     "name": "stdout",
     "output_type": "stream",
     "text": [
      "v_HorseRiding_g05_c06.avi\n",
      "v_HorseRiding_g05_c07.avi\n",
      "v_HorseRiding_g06_c01.avi\n",
      "v_HorseRiding_g06_c02.avi\n",
      "v_HorseRiding_g06_c03.avi\n"
     ]
    },
    {
     "name": "stderr",
     "output_type": "stream",
     "text": [
      " 43%|██████████████████████████████████▋                                             | 199/459 [00:02<00:03, 82.19it/s]"
     ]
    },
    {
     "name": "stdout",
     "output_type": "stream",
     "text": [
      "v_HorseRiding_g06_c04.avi\n",
      "v_HorseRiding_g06_c05.avi\n",
      "v_HorseRiding_g06_c06.avi\n",
      "v_HorseRiding_g06_c07.avi\n",
      "v_HorseRiding_g07_c01.avi\n",
      "v_HorseRiding_g07_c02.avi\n",
      "v_HorseRiding_g07_c03.avi\n",
      "v_HorseRiding_g07_c04.avi\n",
      "v_HorseRiding_g07_c05.avi\n",
      "v_HorseRiding_g07_c06.avi\n",
      "v_HorseRiding_g07_c07.avi\n",
      "v_PlayingCello_g01_c01.avi\n",
      "v_PlayingCello_g01_c02.avi\n",
      "v_PlayingCello_g01_c03.avi\n",
      "v_PlayingCello_g01_c04.avi\n",
      "v_PlayingCello_g01_c05.avi\n",
      "v_PlayingCello_g01_c06.avi\n",
      "v_PlayingCello_g01_c07.avi\n",
      "v_PlayingCello_g02_c01.avi\n",
      "v_PlayingCello_g02_c02.avi\n",
      "v_PlayingCello_g02_c03.avi"
     ]
    },
    {
     "name": "stderr",
     "output_type": "stream",
     "text": [
      " 51%|████████████████████████████████████████                                       | 233/459 [00:02<00:01, 122.72it/s]"
     ]
    },
    {
     "name": "stdout",
     "output_type": "stream",
     "text": [
      "\n",
      "v_PlayingCello_g02_c04.avi\n",
      "v_PlayingCello_g02_c05.avi\n",
      "v_PlayingCello_g02_c06.avi\n",
      "v_PlayingCello_g02_c07.avi\n",
      "v_PlayingCello_g03_c01.avi\n",
      "v_PlayingCello_g03_c02.avi\n",
      "v_PlayingCello_g03_c03.avi\n",
      "v_PlayingCello_g03_c04.avi\n",
      "v_PlayingCello_g04_c01.avi\n",
      "v_PlayingCello_g04_c02.avi\n",
      "v_PlayingCello_g04_c03.avi\n",
      "v_PlayingCello_g04_c04.avi\n",
      "v_PlayingCello_g04_c05.avi\n",
      "v_PlayingCello_g04_c06.avi\n",
      "v_PlayingCello_g04_c07.avi\n",
      "v_PlayingCello_g05_c01.avi\n",
      "v_PlayingCello_g05_c02.avi\n",
      "v_PlayingCello_g05_c03.avi\n",
      "v_PlayingCello_g05_c04.avi\n",
      "v_PlayingCello_g05_c05.avi\n",
      "v_PlayingCello_g05_c06.avi\n",
      "v_PlayingCello_g05_c07.avi\n",
      "v_PlayingCello_g06_c01.avi\n",
      "v_PlayingCello_g06_c02.avi\n",
      "v_PlayingCello_g06_c03.avi\n",
      "v_PlayingCello_g06_c04.avi\n",
      "v_PlayingCello_g06_c05.avi\n",
      "v_PlayingCello_g06_c06.avi\n",
      "v_PlayingCello_g06_c07.avi\n",
      "v_PlayingCello_g07_c01.avi\n",
      "v_PlayingCello_g07_c02.avi\n",
      "v_PlayingCello_g07_c03.avi\n",
      "v_PlayingCello_g07_c04.avi\n",
      "v_PlayingCello_g07_c05.avi\n",
      "v_PlayingDhol_g01_c01.avi\n",
      "v_PlayingDhol_g01_c02.avi\n",
      "v_PlayingDhol_g01_c03.avi\n",
      "v_PlayingDhol_g01_c04.avi\n",
      "v_PlayingDhol_g01_c05.avi\n",
      "v_PlayingDhol_g01_c06.avi"
     ]
    },
    {
     "name": "stderr",
     "output_type": "stream",
     "text": [
      " 58%|█████████████████████████████████████████████▌                                 | 265/459 [00:02<00:01, 112.19it/s]"
     ]
    },
    {
     "name": "stdout",
     "output_type": "stream",
     "text": [
      "\n",
      "v_PlayingDhol_g01_c07.avi\n",
      "v_PlayingDhol_g02_c01.avi\n",
      "v_PlayingDhol_g02_c02.avi\n",
      "v_PlayingDhol_g02_c03.avi\n",
      "v_PlayingDhol_g02_c04.avi\n",
      "v_PlayingDhol_g02_c05.avi\n",
      "v_PlayingDhol_g02_c06.avi\n",
      "v_PlayingDhol_g02_c07.avi\n",
      "v_PlayingDhol_g03_c01.avi\n",
      "v_PlayingDhol_g03_c02.avi\n",
      "v_PlayingDhol_g03_c03.avi\n",
      "v_PlayingDhol_g03_c04.avi\n",
      "v_PlayingDhol_g03_c05.avi\n",
      "v_PlayingDhol_g03_c06.avi\n",
      "v_PlayingDhol_g03_c07.avi\n",
      "v_PlayingDhol_g04_c01.avi\n",
      "v_PlayingDhol_g04_c02.avi\n",
      "v_PlayingDhol_g04_c03.avi\n",
      "v_PlayingDhol_g04_c04.avi\n",
      "v_PlayingDhol_g04_c05.avi\n",
      "v_PlayingDhol_g04_c06.avi\n",
      "v_PlayingDhol_g04_c07.avi\n",
      "v_PlayingDhol_g05_c01.avi\n",
      "v_PlayingDhol_g05_c02.avi\n",
      "v_PlayingDhol_g05_c03.avi\n",
      "v_PlayingDhol_g05_c04.avi\n",
      "v_PlayingDhol_g05_c05.avi\n",
      "v_PlayingDhol_g05_c06.avi\n",
      "v_PlayingDhol_g05_c07.avi\n"
     ]
    },
    {
     "name": "stderr",
     "output_type": "stream",
     "text": [
      "\r",
      " 61%|████████████████████████████████████████████████                               | 279/459 [00:02<00:01, 107.04it/s]"
     ]
    },
    {
     "name": "stdout",
     "output_type": "stream",
     "text": [
      "v_PlayingDhol_g06_c01.avi\n",
      "v_PlayingDhol_g06_c02.avi\n",
      "v_PlayingDhol_g06_c03.avi\n",
      "v_PlayingDhol_g06_c04.avi\n",
      "v_PlayingDhol_g06_c05.avi\n",
      "v_PlayingDhol_g06_c06.avi\n",
      "v_PlayingDhol_g06_c07.avi\n",
      "v_PlayingDhol_g07_c01.avi\n",
      "v_PlayingDhol_g07_c02.avi\n",
      "v_PlayingDhol_g07_c03.avi\n",
      "v_PlayingDhol_g07_c04.avi\n",
      "v_PlayingDhol_g07_c05.avi\n",
      "v_PlayingDhol_g07_c06.avi\n",
      "v_PlayingDhol_g07_c07.avi\n",
      "v_PlayingGuitar_g01_c01.avi\n",
      "v_PlayingGuitar_g01_c02.avi\n",
      "v_PlayingGuitar_g01_c03.avi"
     ]
    },
    {
     "name": "stderr",
     "output_type": "stream",
     "text": [
      "\r",
      " 64%|██████████████████████████████████████████████████▎                            | 292/459 [00:02<00:01, 101.97it/s]"
     ]
    },
    {
     "name": "stdout",
     "output_type": "stream",
     "text": [
      "\n",
      "v_PlayingGuitar_g01_c04.avi\n",
      "v_PlayingGuitar_g01_c05.avi\n",
      "v_PlayingGuitar_g01_c06.avi\n",
      "v_PlayingGuitar_g02_c01.avi\n",
      "v_PlayingGuitar_g02_c02.avi\n",
      "v_PlayingGuitar_g02_c03.avi\n",
      "v_PlayingGuitar_g02_c04.avi\n",
      "v_PlayingGuitar_g03_c01.avi\n",
      "v_PlayingGuitar_g03_c02.avi\n",
      "v_PlayingGuitar_g03_c03.avi\n",
      "v_PlayingGuitar_g03_c04.avi\n"
     ]
    },
    {
     "name": "stderr",
     "output_type": "stream",
     "text": [
      "\r",
      " 66%|████████████████████████████████████████████████████▉                           | 304/459 [00:03<00:02, 58.63it/s]"
     ]
    },
    {
     "name": "stdout",
     "output_type": "stream",
     "text": [
      "v_PlayingGuitar_g03_c05.avi\n",
      "v_PlayingGuitar_g03_c06.avi\n",
      "v_PlayingGuitar_g03_c07.avi\n",
      "v_PlayingGuitar_g04_c01.avi\n",
      "v_PlayingGuitar_g04_c02.avi\n",
      "v_PlayingGuitar_g04_c03.avi\n",
      "v_PlayingGuitar_g04_c04.avi\n",
      "v_PlayingGuitar_g04_c05.avi\n",
      "v_PlayingGuitar_g04_c06.avi\n",
      "v_PlayingGuitar_g04_c07.avi\n",
      "v_PlayingGuitar_g05_c01.avi\n",
      "v_PlayingGuitar_g05_c02.avi\n",
      "v_PlayingGuitar_g05_c03.avi\n",
      "v_PlayingGuitar_g05_c04.avi\n",
      "v_PlayingGuitar_g05_c05.avi\n",
      "v_PlayingGuitar_g06_c01.avi\n",
      "v_PlayingGuitar_g06_c02.avi\n",
      "v_PlayingGuitar_g06_c03.avi"
     ]
    },
    {
     "name": "stderr",
     "output_type": "stream",
     "text": [
      " 73%|██████████████████████████████████████████████████████████▏                     | 334/459 [00:03<00:01, 78.62it/s]"
     ]
    },
    {
     "name": "stdout",
     "output_type": "stream",
     "text": [
      "\n",
      "v_PlayingGuitar_g06_c04.avi\n",
      "v_PlayingGuitar_g06_c05.avi\n",
      "v_PlayingGuitar_g06_c06.avi\n",
      "v_PlayingGuitar_g06_c07.avi\n",
      "v_PlayingGuitar_g07_c01.avi\n",
      "v_PlayingGuitar_g07_c02.avi\n",
      "v_PlayingGuitar_g07_c03.avi\n",
      "v_PlayingGuitar_g07_c04.avi\n",
      "v_PlayingGuitar_g07_c05.avi\n",
      "v_PlayingGuitar_g07_c06.avi\n",
      "v_PlayingGuitar_g07_c07.avi\n",
      "v_Punch_g01_c01.avi\n",
      "v_Punch_g01_c02.avi\n",
      "v_Punch_g01_c03.avi\n",
      "v_Punch_g01_c04.avi\n",
      "v_Punch_g01_c05.avi\n",
      "v_Punch_g02_c01.avi\n",
      "v_Punch_g02_c02.avi\n",
      "v_Punch_g02_c03.avi\n"
     ]
    },
    {
     "name": "stderr",
     "output_type": "stream",
     "text": [
      "\r",
      " 75%|████████████████████████████████████████████████████████████▏                   | 345/459 [00:03<00:01, 81.17it/s]"
     ]
    },
    {
     "name": "stdout",
     "output_type": "stream",
     "text": [
      "v_Punch_g02_c04.avi\n",
      "v_Punch_g03_c01.avi\n",
      "v_Punch_g03_c02.avi\n",
      "v_Punch_g03_c03.avi\n",
      "v_Punch_g03_c04.avi\n",
      "v_Punch_g04_c01.avi\n",
      "v_Punch_g04_c02.avi\n",
      "v_Punch_g04_c03.avi\n",
      "v_Punch_g04_c04.avi\n",
      "v_Punch_g04_c05.avi\n",
      "v_Punch_g05_c01.avi\n",
      "v_Punch_g05_c02.avi\n",
      "v_Punch_g05_c03.avi\n",
      "v_Punch_g05_c04.avi\n",
      "v_Punch_g05_c05.avi\n",
      "v_Punch_g05_c06.avi\n",
      "v_Punch_g05_c07.avi\n",
      "v_Punch_g06_c01.avi\n",
      "v_Punch_g06_c02.avi\n"
     ]
    },
    {
     "name": "stderr",
     "output_type": "stream",
     "text": [
      " 79%|███████████████████████████████████████████████████████████████▎                | 363/459 [00:04<00:02, 46.01it/s]"
     ]
    },
    {
     "name": "stdout",
     "output_type": "stream",
     "text": [
      "v_Punch_g06_c03.avi\n",
      "v_Punch_g06_c04.avi\n",
      "v_Punch_g06_c05.avi\n",
      "v_Punch_g06_c06.avi\n",
      "v_Punch_g06_c07.avi\n",
      "v_Punch_g07_c01.avi\n",
      "v_Punch_g07_c02.avi\n",
      "v_Punch_g07_c03.avi\n",
      "v_Punch_g07_c04.avi\n",
      "v_Punch_g07_c05.avi\n",
      "v_Punch_g07_c06.avi\n",
      "v_Punch_g07_c07.avi\n"
     ]
    },
    {
     "name": "stderr",
     "output_type": "stream",
     "text": [
      " 85%|███████████████████████████████████████████████████████████████████▉            | 390/459 [00:04<00:00, 73.52it/s]"
     ]
    },
    {
     "name": "stdout",
     "output_type": "stream",
     "text": [
      "v_ShavingBeard_g01_c01.avi\n",
      "v_ShavingBeard_g01_c02.avi\n",
      "v_ShavingBeard_g01_c03.avi\n",
      "v_ShavingBeard_g01_c04.avi\n",
      "v_ShavingBeard_g02_c01.avi\n",
      "v_ShavingBeard_g02_c02.avi\n",
      "v_ShavingBeard_g02_c03.avi\n",
      "v_ShavingBeard_g02_c04.avi\n",
      "v_ShavingBeard_g02_c05.avi\n",
      "v_ShavingBeard_g02_c06.avi\n",
      "v_ShavingBeard_g02_c07.avi\n",
      "v_ShavingBeard_g03_c01.avi\n",
      "v_ShavingBeard_g03_c02.avi\n",
      "v_ShavingBeard_g03_c03.avi\n",
      "v_ShavingBeard_g03_c04.avi\n",
      "v_ShavingBeard_g03_c05.avi\n",
      "v_ShavingBeard_g03_c06.avi\n",
      "v_ShavingBeard_g03_c07.avi\n",
      "v_ShavingBeard_g04_c01.avi\n",
      "v_ShavingBeard_g04_c02.avi\n",
      "v_ShavingBeard_g04_c03.avi\n",
      "v_ShavingBeard_g04_c04.avi\n",
      "v_ShavingBeard_g05_c01.avi\n"
     ]
    },
    {
     "name": "stderr",
     "output_type": "stream",
     "text": [
      "\r",
      " 88%|██████████████████████████████████████████████████████████████████████▌         | 405/459 [00:04<00:00, 88.69it/s]"
     ]
    },
    {
     "name": "stdout",
     "output_type": "stream",
     "text": [
      "v_ShavingBeard_g05_c02.avi\n",
      "v_ShavingBeard_g05_c03.avi\n",
      "v_ShavingBeard_g05_c04.avi\n",
      "v_ShavingBeard_g05_c05.avi\n",
      "v_ShavingBeard_g05_c06.avi\n",
      "v_ShavingBeard_g05_c07.avi\n",
      "v_ShavingBeard_g06_c01.avi\n",
      "v_ShavingBeard_g06_c02.avi\n",
      "v_ShavingBeard_g06_c03.avi\n",
      "v_ShavingBeard_g06_c04.avi\n",
      "v_ShavingBeard_g06_c05.avi\n",
      "v_ShavingBeard_g06_c06.avi\n",
      "v_ShavingBeard_g06_c07.avi\n",
      "v_ShavingBeard_g07_c01.avi\n",
      "v_ShavingBeard_g07_c02.avi\n",
      "v_ShavingBeard_g07_c03.avi\n",
      "v_ShavingBeard_g07_c04.avi\n",
      "v_ShavingBeard_g07_c05.avi\n",
      "v_ShavingBeard_g07_c06.avi\n",
      "v_ShavingBeard_g07_c07.avi\n",
      "v_TennisSwing_g01_c01.avi\n",
      "v_TennisSwing_g01_c02.avi"
     ]
    },
    {
     "name": "stderr",
     "output_type": "stream",
     "text": [
      "\r",
      " 91%|████████████████████████████████████████████████████████████████████████▋       | 417/459 [00:04<00:00, 86.63it/s]"
     ]
    },
    {
     "name": "stdout",
     "output_type": "stream",
     "text": [
      "\n",
      "v_TennisSwing_g01_c03.avi\n",
      "v_TennisSwing_g01_c04.avi\n",
      "v_TennisSwing_g01_c05.avi\n",
      "v_TennisSwing_g01_c06.avi\n",
      "v_TennisSwing_g01_c07.avi\n",
      "v_TennisSwing_g02_c01.avi\n",
      "v_TennisSwing_g02_c02.avi\n",
      "v_TennisSwing_g02_c03.avi\n",
      "v_TennisSwing_g02_c04.avi\n"
     ]
    },
    {
     "name": "stderr",
     "output_type": "stream",
     "text": [
      "\r",
      " 93%|██████████████████████████████████████████████████████████████████████████▌     | 428/459 [00:05<00:00, 53.65it/s]"
     ]
    },
    {
     "name": "stdout",
     "output_type": "stream",
     "text": [
      "v_TennisSwing_g02_c05.avi\n",
      "v_TennisSwing_g02_c06.avi\n",
      "v_TennisSwing_g02_c07.avi\n",
      "v_TennisSwing_g03_c01.avi\n",
      "v_TennisSwing_g03_c02.avi\n",
      "v_TennisSwing_g03_c03.avi\n",
      "v_TennisSwing_g03_c04.avi\n",
      "v_TennisSwing_g03_c05.avi\n"
     ]
    },
    {
     "name": "stderr",
     "output_type": "stream",
     "text": [
      "\r",
      " 95%|████████████████████████████████████████████████████████████████████████████▏   | 437/459 [00:05<00:00, 55.45it/s]"
     ]
    },
    {
     "name": "stdout",
     "output_type": "stream",
     "text": [
      "v_TennisSwing_g03_c06.avi\n",
      "v_TennisSwing_g03_c07.avi\n",
      "v_TennisSwing_g04_c01.avi\n",
      "v_TennisSwing_g04_c02.avi\n",
      "v_TennisSwing_g04_c03.avi\n",
      "v_TennisSwing_g04_c04.avi\n",
      "v_TennisSwing_g04_c05.avi\n",
      "v_TennisSwing_g04_c06.avi\n",
      "v_TennisSwing_g04_c07.avi\n",
      "v_TennisSwing_g05_c01.avi\n",
      "v_TennisSwing_g05_c02.avi\n",
      "v_TennisSwing_g05_c03.avi\n"
     ]
    },
    {
     "name": "stderr",
     "output_type": "stream",
     "text": [
      "100%|████████████████████████████████████████████████████████████████████████████████| 459/459 [00:05<00:00, 79.14it/s]"
     ]
    },
    {
     "name": "stdout",
     "output_type": "stream",
     "text": [
      "v_TennisSwing_g05_c04.avi\n",
      "v_TennisSwing_g05_c05.avi\n",
      "v_TennisSwing_g05_c06.avi\n",
      "v_TennisSwing_g05_c07.avi\n",
      "v_TennisSwing_g06_c01.avi\n",
      "v_TennisSwing_g06_c02.avi\n",
      "v_TennisSwing_g06_c03.avi\n",
      "v_TennisSwing_g06_c04.avi\n",
      "v_TennisSwing_g06_c05.avi\n",
      "v_TennisSwing_g06_c06.avi\n",
      "v_TennisSwing_g06_c07.avi\n",
      "v_TennisSwing_g07_c01.avi\n",
      "v_TennisSwing_g07_c02.avi\n",
      "v_TennisSwing_g07_c03.avi\n",
      "v_TennisSwing_g07_c04.avi\n",
      "v_TennisSwing_g07_c05.avi\n",
      "v_TennisSwing_g07_c06.avi\n",
      "v_TennisSwing_g07_c07.avi\n",
      "\n",
      "Total videos: 459\n"
     ]
    },
    {
     "name": "stderr",
     "output_type": "stream",
     "text": [
      "\n"
     ]
    }
   ],
   "source": [
    "move_videos(train_new, \"train\")\n",
    "move_videos(test_new, \"test\")"
   ]
  },
  {
   "cell_type": "code",
   "execution_count": 11,
   "id": "d789c435",
   "metadata": {},
   "outputs": [],
   "source": [
    "train_new.to_csv(\"train.csv\", index=False)\n",
    "test_new.to_csv(\"test.csv\", index=False)"
   ]
  },
  {
   "cell_type": "code",
   "execution_count": null,
   "id": "502bf352",
   "metadata": {},
   "outputs": [],
   "source": []
  },
  {
   "cell_type": "code",
   "execution_count": null,
   "id": "e7697113",
   "metadata": {},
   "outputs": [],
   "source": []
  },
  {
   "cell_type": "code",
   "execution_count": null,
   "id": "3077d8a5",
   "metadata": {},
   "outputs": [],
   "source": []
  }
 ],
 "metadata": {
  "kernelspec": {
   "display_name": "Python 3",
   "language": "python",
   "name": "python3"
  },
  "language_info": {
   "codemirror_mode": {
    "name": "ipython",
    "version": 3
   },
   "file_extension": ".py",
   "mimetype": "text/x-python",
   "name": "python",
   "nbconvert_exporter": "python",
   "pygments_lexer": "ipython3",
   "version": "3.9.5"
  }
 },
 "nbformat": 4,
 "nbformat_minor": 5
}

{
 "cells": [
  {
   "cell_type": "markdown",
   "id": "e2389257",
   "metadata": {},
   "source": [
    "## Import Libraries"
   ]
  },
  {
   "cell_type": "code",
   "execution_count": 1,
   "id": "7ba63c07",
   "metadata": {},
   "outputs": [],
   "source": [
    "import os\n",
    "import math\n",
    "import numpy as np\n",
    "import datetime as dt\n",
    "import tensorflow as tf\n",
    "import matplotlib.pyplot as plt\n",
    "%matplotlib inline\n",
    "\n",
    "from sklearn.model_selection import train_test_split\n",
    "\n",
    "from tensorflow.keras.layers import *\n",
    "from tensorflow.keras.models import Sequential\n",
    "from tensorflow.keras.utils import to_categorical\n",
    "from tensorflow.keras.callbacks import EarlyStopping\n",
    "from tensorflow.keras.utils import plot_model"
   ]
  },
  {
   "cell_type": "markdown",
   "id": "dc007b50",
   "metadata": {},
   "source": [
    "## Variables"
   ]
  },
  {
   "cell_type": "code",
   "execution_count": 9,
   "id": "712009dc",
   "metadata": {},
   "outputs": [],
   "source": [
    "model_output_size = len(os.listdir('UCF101'))\n",
    "image_height = 64\n",
    "image_width = 64\n",
    "\n"
   ]
  },
  {
   "cell_type": "markdown",
   "id": "47af2ec6",
   "metadata": {},
   "source": [
    "## Load Features and Labels"
   ]
  },
  {
   "cell_type": "code",
   "execution_count": 3,
   "id": "a51a75f9",
   "metadata": {},
   "outputs": [],
   "source": [
    "features = np.load('features.npy')\n",
    "labels = np.load('labels.npy')"
   ]
  },
  {
   "cell_type": "code",
   "execution_count": 4,
   "id": "26805bdb",
   "metadata": {},
   "outputs": [],
   "source": [
    "# Using Keras's to_categorical method to convert labels into one-hot-encoded vectors\n",
    "one_hot_encoded_labels = to_categorical(labels)"
   ]
  },
  {
   "cell_type": "markdown",
   "id": "90b78bbb",
   "metadata": {},
   "source": [
    "## Split Data"
   ]
  },
  {
   "cell_type": "code",
   "execution_count": 5,
   "id": "287d2140",
   "metadata": {},
   "outputs": [],
   "source": [
    "features_train, features_test, labels_train, labels_test = train_test_split(features,\n",
    "one_hot_encoded_labels, test_size = 0.2, shuffle = True, random_state = 17)"
   ]
  },
  {
   "cell_type": "markdown",
   "id": "1efe2b0b",
   "metadata": {},
   "source": [
    "## Construct Model"
   ]
  },
  {
   "cell_type": "code",
   "execution_count": 10,
   "id": "4f1f8f5b",
   "metadata": {},
   "outputs": [
    {
     "name": "stdout",
     "output_type": "stream",
     "text": [
      "Model: \"sequential_2\"\n",
      "_________________________________________________________________\n",
      "Layer (type)                 Output Shape              Param #   \n",
      "=================================================================\n",
      "conv2d (Conv2D)              (None, 62, 62, 64)        1792      \n",
      "_________________________________________________________________\n",
      "conv2d_1 (Conv2D)            (None, 60, 60, 64)        36928     \n",
      "_________________________________________________________________\n",
      "batch_normalization (BatchNo (None, 60, 60, 64)        256       \n",
      "_________________________________________________________________\n",
      "max_pooling2d (MaxPooling2D) (None, 30, 30, 64)        0         \n",
      "_________________________________________________________________\n",
      "global_average_pooling2d (Gl (None, 64)                0         \n",
      "_________________________________________________________________\n",
      "dense (Dense)                (None, 256)               16640     \n",
      "_________________________________________________________________\n",
      "batch_normalization_1 (Batch (None, 256)               1024      \n",
      "_________________________________________________________________\n",
      "dense_1 (Dense)              (None, 101)               25957     \n",
      "=================================================================\n",
      "Total params: 82,597\n",
      "Trainable params: 81,957\n",
      "Non-trainable params: 640\n",
      "_________________________________________________________________\n",
      "Model Created Successfully!\n"
     ]
    }
   ],
   "source": [
    "# Let's create a function that will construct our model\n",
    "def create_model():\n",
    "\n",
    "    # We will use a Sequential model for model construction\n",
    "    model = Sequential()\n",
    "\n",
    "    # Defining The Model Architecture\n",
    "    model.add(Conv2D(filters = 64, kernel_size = (3, 3), activation = 'relu', input_shape = (image_height, image_width, 3)))\n",
    "    model.add(Conv2D(filters = 64, kernel_size = (3, 3), activation = 'relu'))\n",
    "    model.add(BatchNormalization())\n",
    "    model.add(MaxPooling2D(pool_size = (2, 2)))\n",
    "    model.add(GlobalAveragePooling2D())\n",
    "    model.add(Dense(256, activation = 'relu'))\n",
    "    model.add(BatchNormalization())\n",
    "    model.add(Dense(model_output_size, activation = 'softmax'))\n",
    "\n",
    "    # Printing the models summary\n",
    "    model.summary()\n",
    "\n",
    "    return model\n",
    "\n",
    "\n",
    "# Calling the create_model method\n",
    "model = create_model()\n",
    "\n",
    "print(\"Model Created Successfully!\")"
   ]
  },
  {
   "cell_type": "markdown",
   "id": "bb305c49",
   "metadata": {},
   "source": [
    "## Model Structure"
   ]
  },
  {
   "cell_type": "code",
   "execution_count": 11,
   "id": "d2c17a26",
   "metadata": {},
   "outputs": [
    {
     "name": "stdout",
     "output_type": "stream",
     "text": [
      "('You must install pydot (`pip install pydot`) and install graphviz (see instructions at https://graphviz.gitlab.io/download/) ', 'for plot_model/model_to_dot to work.')\n"
     ]
    }
   ],
   "source": [
    "plot_model(model, to_file = 'model_structure_plot.png', show_shapes = True, show_layer_names = True)"
   ]
  },
  {
   "cell_type": "markdown",
   "id": "ed7d4f70",
   "metadata": {},
   "source": [
    "## Train"
   ]
  },
  {
   "cell_type": "code",
   "execution_count": 12,
   "id": "6bd9cb07",
   "metadata": {},
   "outputs": [
    {
     "name": "stdout",
     "output_type": "stream",
     "text": [
      "Epoch 1/40\n",
      "2664/2664 [==============================] - 484s 181ms/step - loss: 3.3138 - accuracy: 0.2058 - val_loss: 3.6896 - val_accuracy: 0.2042\n",
      "Epoch 2/40\n",
      "2664/2664 [==============================] - 442s 166ms/step - loss: 2.2257 - accuracy: 0.4181 - val_loss: 2.1910 - val_accuracy: 0.4230\n",
      "Epoch 3/40\n",
      "2664/2664 [==============================] - 435s 163ms/step - loss: 1.6717 - accuracy: 0.5484 - val_loss: 1.5559 - val_accuracy: 0.5885\n",
      "Epoch 4/40\n",
      "2664/2664 [==============================] - 428s 160ms/step - loss: 1.3235 - accuracy: 0.6383 - val_loss: 1.9880 - val_accuracy: 0.4882\n",
      "Epoch 5/40\n",
      "2664/2664 [==============================] - 432s 162ms/step - loss: 1.1120 - accuracy: 0.6908 - val_loss: 1.3049 - val_accuracy: 0.6462\n",
      "Epoch 6/40\n",
      "2664/2664 [==============================] - 428s 161ms/step - loss: 0.9734 - accuracy: 0.7273 - val_loss: 1.1508 - val_accuracy: 0.6869\n",
      "Epoch 7/40\n",
      "2664/2664 [==============================] - 431s 162ms/step - loss: 0.8740 - accuracy: 0.7513 - val_loss: 1.9555 - val_accuracy: 0.5513\n",
      "Epoch 8/40\n",
      "2664/2664 [==============================] - 432s 162ms/step - loss: 0.8064 - accuracy: 0.7685 - val_loss: 0.8919 - val_accuracy: 0.7655\n",
      "Epoch 9/40\n",
      "2664/2664 [==============================] - 428s 161ms/step - loss: 0.7430 - accuracy: 0.7852 - val_loss: 1.0460 - val_accuracy: 0.7345\n",
      "Epoch 10/40\n",
      "2664/2664 [==============================] - 433s 163ms/step - loss: 0.7048 - accuracy: 0.7956 - val_loss: 0.6978 - val_accuracy: 0.8189\n",
      "Epoch 11/40\n",
      "2664/2664 [==============================] - 428s 161ms/step - loss: 0.6572 - accuracy: 0.8072 - val_loss: 0.6956 - val_accuracy: 0.8213\n",
      "Epoch 12/40\n",
      "2664/2664 [==============================] - 432s 162ms/step - loss: 0.6478 - accuracy: 0.8139 - val_loss: 0.9140 - val_accuracy: 0.7557\n",
      "Epoch 13/40\n",
      "2664/2664 [==============================] - 429s 161ms/step - loss: 0.6044 - accuracy: 0.8236 - val_loss: 0.8407 - val_accuracy: 0.7819\n",
      "Epoch 14/40\n",
      "2664/2664 [==============================] - 430s 161ms/step - loss: 0.5735 - accuracy: 0.8304 - val_loss: 0.5888 - val_accuracy: 0.8411\n",
      "Epoch 15/40\n",
      "2664/2664 [==============================] - 428s 161ms/step - loss: 0.5601 - accuracy: 0.8350 - val_loss: 0.7884 - val_accuracy: 0.7945\n",
      "Epoch 16/40\n",
      "2664/2664 [==============================] - 432s 162ms/step - loss: 0.5385 - accuracy: 0.8415 - val_loss: 0.6493 - val_accuracy: 0.8264\n",
      "Epoch 17/40\n",
      "2664/2664 [==============================] - 440s 165ms/step - loss: 0.5212 - accuracy: 0.8465 - val_loss: 0.8785 - val_accuracy: 0.7798\n",
      "Epoch 18/40\n",
      "2664/2664 [==============================] - 440s 165ms/step - loss: 0.5001 - accuracy: 0.8487 - val_loss: 0.6415 - val_accuracy: 0.8287\n",
      "Epoch 19/40\n",
      "2664/2664 [==============================] - 429s 161ms/step - loss: 0.4773 - accuracy: 0.8548 - val_loss: 0.6834 - val_accuracy: 0.8180\n",
      "Epoch 20/40\n",
      "2664/2664 [==============================] - 430s 161ms/step - loss: 0.4804 - accuracy: 0.8572 - val_loss: 0.4543 - val_accuracy: 0.8818\n",
      "Epoch 21/40\n",
      "2664/2664 [==============================] - 429s 161ms/step - loss: 0.4668 - accuracy: 0.8622 - val_loss: 0.5472 - val_accuracy: 0.8611\n",
      "Epoch 22/40\n",
      "2664/2664 [==============================] - 431s 162ms/step - loss: 0.4473 - accuracy: 0.8645 - val_loss: 0.6360 - val_accuracy: 0.8331\n",
      "Epoch 23/40\n",
      "2664/2664 [==============================] - 429s 161ms/step - loss: 0.4478 - accuracy: 0.8653 - val_loss: 0.4412 - val_accuracy: 0.8825\n",
      "Epoch 24/40\n",
      "2664/2664 [==============================] - 428s 161ms/step - loss: 0.4243 - accuracy: 0.8725 - val_loss: 0.6409 - val_accuracy: 0.8252\n",
      "Epoch 25/40\n",
      "2664/2664 [==============================] - 429s 161ms/step - loss: 0.4224 - accuracy: 0.8708 - val_loss: 0.4811 - val_accuracy: 0.8776\n",
      "Epoch 26/40\n",
      "2664/2664 [==============================] - 427s 160ms/step - loss: 0.4094 - accuracy: 0.8757 - val_loss: 0.6502 - val_accuracy: 0.8326\n",
      "Epoch 27/40\n",
      "2664/2664 [==============================] - 429s 161ms/step - loss: 0.4047 - accuracy: 0.8764 - val_loss: 0.4995 - val_accuracy: 0.8726\n",
      "Epoch 28/40\n",
      "2664/2664 [==============================] - 429s 161ms/step - loss: 0.3887 - accuracy: 0.8822 - val_loss: 0.5601 - val_accuracy: 0.8549\n",
      "Epoch 29/40\n",
      "2664/2664 [==============================] - 430s 161ms/step - loss: 0.3911 - accuracy: 0.8816 - val_loss: 0.4194 - val_accuracy: 0.8842\n",
      "Epoch 30/40\n",
      "2664/2664 [==============================] - 432s 162ms/step - loss: 0.3792 - accuracy: 0.8840 - val_loss: 0.5675 - val_accuracy: 0.8499\n",
      "Epoch 31/40\n",
      "2664/2664 [==============================] - 429s 161ms/step - loss: 0.3688 - accuracy: 0.8877 - val_loss: 0.4271 - val_accuracy: 0.8893\n",
      "Epoch 32/40\n",
      "2664/2664 [==============================] - 429s 161ms/step - loss: 0.3629 - accuracy: 0.8893 - val_loss: 0.4215 - val_accuracy: 0.8907\n",
      "Epoch 33/40\n",
      "2664/2664 [==============================] - 432s 162ms/step - loss: 0.3640 - accuracy: 0.8874 - val_loss: 0.4717 - val_accuracy: 0.8747\n",
      "Epoch 34/40\n",
      "2664/2664 [==============================] - 429s 161ms/step - loss: 0.3510 - accuracy: 0.8927 - val_loss: 0.6679 - val_accuracy: 0.8291\n",
      "Epoch 35/40\n",
      "2664/2664 [==============================] - 430s 161ms/step - loss: 0.3543 - accuracy: 0.8913 - val_loss: 0.4226 - val_accuracy: 0.8865\n",
      "Epoch 36/40\n",
      "2664/2664 [==============================] - 430s 161ms/step - loss: 0.3419 - accuracy: 0.8958 - val_loss: 0.6002 - val_accuracy: 0.8459\n",
      "Epoch 37/40\n",
      "2664/2664 [==============================] - 427s 160ms/step - loss: 0.3339 - accuracy: 0.8986 - val_loss: 0.4714 - val_accuracy: 0.8772\n",
      "Epoch 38/40\n",
      "2664/2664 [==============================] - 428s 161ms/step - loss: 0.3332 - accuracy: 0.8979 - val_loss: 0.4385 - val_accuracy: 0.8816\n",
      "Epoch 39/40\n",
      "2664/2664 [==============================] - 429s 161ms/step - loss: 0.3324 - accuracy: 0.8988 - val_loss: 0.3253 - val_accuracy: 0.9108\n",
      "Epoch 40/40\n",
      "2664/2664 [==============================] - 428s 161ms/step - loss: 0.3248 - accuracy: 0.8996 - val_loss: 0.5104 - val_accuracy: 0.8672\n"
     ]
    }
   ],
   "source": [
    "# Adding Early Stopping Callback\n",
    "early_stopping_callback = EarlyStopping(monitor = 'val_loss', patience = 15, mode = 'min', restore_best_weights = True)\n",
    "\n",
    "# Adding loss, optimizer and metrics values to the model.\n",
    "model.compile(loss = 'categorical_crossentropy', optimizer = 'Adam', metrics = [\"accuracy\"])\n",
    "\n",
    "# Start Training\n",
    "model_training_history = model.fit(x = features_train, y = labels_train, \n",
    "epochs = 40, batch_size = 16 , shuffle = True, validation_split = 0.2, callbacks = [early_stopping_callback])"
   ]
  },
  {
   "cell_type": "markdown",
   "id": "4fda837c",
   "metadata": {},
   "source": [
    "### Model evaluation History"
   ]
  },
  {
   "cell_type": "code",
   "execution_count": 13,
   "id": "849233ad",
   "metadata": {},
   "outputs": [
    {
     "name": "stdout",
     "output_type": "stream",
     "text": [
      "417/417 [==============================] - 27s 61ms/step - loss: 0.5103 - accuracy: 0.8626\n"
     ]
    }
   ],
   "source": [
    "model_evaluation_history = model.evaluate(features_test, labels_test)"
   ]
  },
  {
   "cell_type": "markdown",
   "id": "ad613630",
   "metadata": {},
   "source": [
    "### Save Model"
   ]
  },
  {
   "cell_type": "code",
   "execution_count": 14,
   "id": "3e9be02c",
   "metadata": {},
   "outputs": [],
   "source": [
    "# Creating a useful name for our model, incase you're saving multiple models (OPTIONAL)\n",
    "date_time_format = '%Y_%m_%d__%H_%M_%S'\n",
    "current_date_time_dt = dt.datetime.now()\n",
    "current_date_time_string = dt.datetime.strftime(current_date_time_dt, date_time_format)\n",
    "model_evaluation_loss, model_evaluation_accuracy = model_evaluation_history\n",
    "model_name = f'101Model___Date_Time_{current_date_time_string}___Loss_{model_evaluation_loss}___Accuracy_{model_evaluation_accuracy}.h5'\n",
    "\n",
    "# Saving your Model\n",
    "model.save(model_name)"
   ]
  },
  {
   "cell_type": "markdown",
   "id": "9acc681d",
   "metadata": {},
   "source": [
    "### Plot"
   ]
  },
  {
   "cell_type": "code",
   "execution_count": 15,
   "id": "74b9ff27",
   "metadata": {},
   "outputs": [],
   "source": [
    "def plot_metric(metric_name_1, metric_name_2, plot_name):\n",
    "  # Get Metric values using metric names as identifiers\n",
    "  metric_value_1 = model_training_history.history[metric_name_1]\n",
    "  metric_value_2 = model_training_history.history[metric_name_2]\n",
    "\n",
    "  # Constructing a range object which will be used as time \n",
    "  epochs = range(len(metric_value_1))\n",
    "  \n",
    "  # Plotting the Graph\n",
    "  plt.plot(epochs, metric_value_1, 'blue', label = metric_name_1)\n",
    "  plt.plot(epochs, metric_value_2, 'red', label = metric_name_2)\n",
    "  \n",
    "  # Adding title to the plot\n",
    "  plt.title(str(plot_name))\n",
    "\n",
    "  # Adding legend to the plot\n",
    "  plt.legend()"
   ]
  },
  {
   "cell_type": "code",
   "execution_count": 16,
   "id": "8034267d",
   "metadata": {},
   "outputs": [
    {
     "data": {
      "image/png": "[encoded data removed]",
      "text/plain": [
       "<Figure size 432x288 with 1 Axes>"
      ]
     },
     "metadata": {
      "needs_background": "light"
     },
     "output_type": "display_data"
    }
   ],
   "source": [
    "plot_metric('loss', 'val_loss', 'Total Loss vs Total Validation Loss')"
   ]
  },
  {
   "cell_type": "code",
   "execution_count": 17,
   "id": "e3ce06b9",
   "metadata": {},
   "outputs": [
    {
     "data": {
      "image/png": "[encoded data removed]",
      "text/plain": [
       "<Figure size 432x288 with 1 Axes>"
      ]
     },
     "metadata": {
      "needs_background": "light"
     },
     "output_type": "display_data"
    }
   ],
   "source": [
    "plot_metric('accuracy', 'val_accuracy', 'Total Accuracy vs Total Validation Accuracy')"
   ]
  },
  {
   "cell_type": "code",
   "execution_count": null,
   "id": "b7b3f51b",
   "metadata": {},
   "outputs": [],
   "source": []
  }
 ],
 "metadata": {
  "kernelspec": {
   "display_name": "Python 3",
   "language": "python",
   "name": "python3"
  },
  "language_info": {
   "codemirror_mode": {
    "name": "ipython",
    "version": 3
   },
   "file_extension": ".py",
   "mimetype": "text/x-python",
   "name": "python",
   "nbconvert_exporter": "python",
   "pygments_lexer": "ipython3",
   "version": "3.9.5"
  }
 },
 "nbformat": 4,
 "nbformat_minor": 5
}
